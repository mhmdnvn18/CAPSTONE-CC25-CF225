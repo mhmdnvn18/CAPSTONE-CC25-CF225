{
  "cells": [
    {
      "cell_type": "markdown",
      "id": "0e5f7999",
      "metadata": {
        "id": "0e5f7999"
      },
      "source": [
        "# **Capstone Project - *IllDetect*: Cardiovascular Diagnosis Detector** <br>\n",
        "ID Tim: CC25-CF225  <br>\n",
        "Anggota Tim:  \n",
        "1. (ML) MC008D5X2348 - Marsha Rasyida Al-Farabi\n",
        "2. (ML) MC008D5X2087 - Syifa Azzahra Susilo\n",
        "3. (ML) MC008D5X2388 - Indara Nurwulandari\n",
        "4. (FEBE) FC492D5Y2169 - Muhammad Novian\n",
        "5. (FEBE) FC179D5Y0593- Muh Diaz Nazarudin Rahman\n",
        "6. (FEBE) FC179D5Y1055 - Aditya Navra Erlangga <br>\n",
        "\n",
        "Tema: Health Innovation"
      ]
    },
    {
      "cell_type": "markdown",
      "id": "564e8366",
      "metadata": {
        "id": "564e8366"
      },
      "source": [
        "*IllDetect – Cardiovascular Diagnosis Detector* merupakan inovasi digital yang bertujuan membantu masyarakat mendeteksi risiko penyakit jantung secara mandiri, cepat, dan mudah."
      ]
    },
    {
      "cell_type": "markdown",
      "id": "28bf5850",
      "metadata": {
        "id": "28bf5850"
      },
      "source": [
        "Library yang dibutuhkan pada proyek ini sebagai berikut:"
      ]
    },
    {
      "cell_type": "code",
      "execution_count": 1,
      "id": "1e7b32ec",
      "metadata": {
        "id": "1e7b32ec"
      },
      "outputs": [
        {
          "name": "stderr",
          "output_type": "stream",
          "text": [
            "/Users/macbook/Library/Python/3.9/lib/python/site-packages/tqdm/auto.py:21: TqdmWarning: IProgress not found. Please update jupyter and ipywidgets. See https://ipywidgets.readthedocs.io/en/stable/user_install.html\n",
            "  from .autonotebook import tqdm as notebook_tqdm\n"
          ]
        }
      ],
      "source": [
        "import numpy as np\n",
        "import pandas as pd\n",
        "import matplotlib.pyplot as plt\n",
        "import seaborn as sns\n",
        "sns.set()\n",
        "import kagglehub\n",
        "import os\n",
        "from sklearn.preprocessing import StandardScaler\n",
        "from sklearn.base import BaseEstimator, ClassifierMixin\n",
        "from tensorflow.keras.models import Sequential\n",
        "from tensorflow.keras.layers import Dense\n",
        "from sklearn.model_selection import train_test_split, GridSearchCV\n",
        "from sklearn.metrics import accuracy_score, confusion_matrix, classification_report\n",
        "from sklearn.preprocessing import OrdinalEncoder\n",
        "from pytorch_tabnet.tab_model import TabNetClassifier\n",
        "import torch\n",
        "import pickle\n"
      ]
    },
    {
      "cell_type": "markdown",
      "id": "32c23808",
      "metadata": {
        "id": "32c23808"
      },
      "source": [
        "## **Data Understanding** <br>"
      ]
    },
    {
      "cell_type": "markdown",
      "id": "8af7c734",
      "metadata": {
        "id": "8af7c734"
      },
      "source": [
        "Dataset yang digunakan dalam proyek ini berasal dari platform Kaggle dengan judul “Cardiovascular Disease Dataset”. Dataset ini digunakan untuk membangun model prediktif dalam mendeteksi risiko penyakit jantung berdasarkan berbagai parameter klinis dan gaya hidup. Link dataset : 🔗 https://www.kaggle.com/datasets/sulianova/cardiovascular-disease-dataset\n",
        "\n",
        "Dataset asli berisi 70.000 observasi dengan 13 kolom, namun dalam proyek ini, tim kami memilih 10.000 data secara acak menggunakan parameter `random_state` untuk dijadikan sebagai dataset utama.\n",
        "\n",
        "Pemilihan subset ini dilakukan dengan pertimbangan:\n",
        "- **Efisiensi waktu komputasi**, agar pemodelan dan evaluasi dapat dilakukan secara optimal tanpa mengorbankan performa model.\n",
        "- **Reduksi kompleksitas dan outlier**, untuk menghindari noise atau data ekstrem yang dapat mengganggu kualitas pelatihan.\n",
        "- **Representativitas tetap terjaga**, karena pengambilan dilakukan secara acak dan stratifikasi tidak diperlukan.\n",
        "\n",
        "Seluruh tahap mulai dari EDA, data preparation, modeling, serta evaluation dilakukan menggunakan 10.000 observasi terpilih ini.\n",
        "\n",
        "Berikut adalah penjelasan mengenai variabel-variabel pada dataset tersebut:\n",
        "- `id`: ID unik yang mengacu pada masing-masing pasien dalam dataset.\n",
        "- `age`: Usia pasien dalam satuan hari.\n",
        "- `gender`: Jenis kelamin pasien, di mana 1 = perempuan dan 2 = laki-laki.\n",
        "- `height`: Tinggi badan pasien (cm)\n",
        "- `weight`: Berat badan pasien (kg).\n",
        "- `ap_hi`: Tekanan darah sistolik pasien (angka atas).\n",
        "- `ap_lo`: Tekanan darah diastolik pasien (angka bawah).\n",
        "- `cholesterol`: Kategori tingkat kolesterol, dengan nilai 1 = normal, 2 = di atas normal, dan 3 = jauh di atas normal.\n",
        "- `gluc`: Kategori tingkat glukosa darah, dengan nilai 1 = normal, 2 = di atas normal, dan 3 = jauh di atas normal.\n",
        "- `smoke`: Status merokok pasien, di mana 0 = tidak merokok dan 1 = merokok.\n",
        "- `alco`: Konsumsi alkohol oleh pasien, dengan nilai 0 = tidak mengonsumsi dan 1 = mengonsumsi alkohol.\n",
        "- `active`: Tingkat aktivitas fisik pasien, dengan nilai 0 = tidak aktif dan 1 = aktif secara fisik.\n",
        "- `cardio`: Label target yang menunjukkan apakah pasien menderita penyakit kardiovaskular, dengan nilai 0 = tidak dan 1 = ya."
      ]
    },
    {
      "cell_type": "code",
      "execution_count": 2,
      "id": "727e36c1",
      "metadata": {
        "id": "727e36c1"
      },
      "outputs": [
        {
          "name": "stdout",
          "output_type": "stream",
          "text": [
            "Warning: Looks like you're using an outdated `kagglehub` version (installed: 0.3.11), please consider upgrading to the latest version (0.3.12).\n"
          ]
        }
      ],
      "source": [
        "# Download datasets dari Kaggle\n",
        "path = kagglehub.dataset_download(\"sulianova/cardiovascular-disease-dataset\")"
      ]
    },
    {
      "cell_type": "code",
      "execution_count": 3,
      "id": "7ad160d6",
      "metadata": {
        "colab": {
          "base_uri": "https://localhost:8080/",
          "height": 424
        },
        "id": "7ad160d6",
        "outputId": "6de1d10a-d173-4b3c-9aab-f68aa6e201c1"
      },
      "outputs": [
        {
          "data": {
            "text/html": [
              "<div>\n",
              "<style scoped>\n",
              "    .dataframe tbody tr th:only-of-type {\n",
              "        vertical-align: middle;\n",
              "    }\n",
              "\n",
              "    .dataframe tbody tr th {\n",
              "        vertical-align: top;\n",
              "    }\n",
              "\n",
              "    .dataframe thead th {\n",
              "        text-align: right;\n",
              "    }\n",
              "</style>\n",
              "<table border=\"1\" class=\"dataframe\">\n",
              "  <thead>\n",
              "    <tr style=\"text-align: right;\">\n",
              "      <th></th>\n",
              "      <th>id</th>\n",
              "      <th>age</th>\n",
              "      <th>gender</th>\n",
              "      <th>height</th>\n",
              "      <th>weight</th>\n",
              "      <th>ap_hi</th>\n",
              "      <th>ap_lo</th>\n",
              "      <th>cholesterol</th>\n",
              "      <th>gluc</th>\n",
              "      <th>smoke</th>\n",
              "      <th>alco</th>\n",
              "      <th>active</th>\n",
              "      <th>cardio</th>\n",
              "    </tr>\n",
              "  </thead>\n",
              "  <tbody>\n",
              "    <tr>\n",
              "      <th>0</th>\n",
              "      <td>0</td>\n",
              "      <td>18393</td>\n",
              "      <td>2</td>\n",
              "      <td>168</td>\n",
              "      <td>62.0</td>\n",
              "      <td>110</td>\n",
              "      <td>80</td>\n",
              "      <td>1</td>\n",
              "      <td>1</td>\n",
              "      <td>0</td>\n",
              "      <td>0</td>\n",
              "      <td>1</td>\n",
              "      <td>0</td>\n",
              "    </tr>\n",
              "    <tr>\n",
              "      <th>1</th>\n",
              "      <td>1</td>\n",
              "      <td>20228</td>\n",
              "      <td>1</td>\n",
              "      <td>156</td>\n",
              "      <td>85.0</td>\n",
              "      <td>140</td>\n",
              "      <td>90</td>\n",
              "      <td>3</td>\n",
              "      <td>1</td>\n",
              "      <td>0</td>\n",
              "      <td>0</td>\n",
              "      <td>1</td>\n",
              "      <td>1</td>\n",
              "    </tr>\n",
              "    <tr>\n",
              "      <th>2</th>\n",
              "      <td>2</td>\n",
              "      <td>18857</td>\n",
              "      <td>1</td>\n",
              "      <td>165</td>\n",
              "      <td>64.0</td>\n",
              "      <td>130</td>\n",
              "      <td>70</td>\n",
              "      <td>3</td>\n",
              "      <td>1</td>\n",
              "      <td>0</td>\n",
              "      <td>0</td>\n",
              "      <td>0</td>\n",
              "      <td>1</td>\n",
              "    </tr>\n",
              "    <tr>\n",
              "      <th>3</th>\n",
              "      <td>3</td>\n",
              "      <td>17623</td>\n",
              "      <td>2</td>\n",
              "      <td>169</td>\n",
              "      <td>82.0</td>\n",
              "      <td>150</td>\n",
              "      <td>100</td>\n",
              "      <td>1</td>\n",
              "      <td>1</td>\n",
              "      <td>0</td>\n",
              "      <td>0</td>\n",
              "      <td>1</td>\n",
              "      <td>1</td>\n",
              "    </tr>\n",
              "    <tr>\n",
              "      <th>4</th>\n",
              "      <td>4</td>\n",
              "      <td>17474</td>\n",
              "      <td>1</td>\n",
              "      <td>156</td>\n",
              "      <td>56.0</td>\n",
              "      <td>100</td>\n",
              "      <td>60</td>\n",
              "      <td>1</td>\n",
              "      <td>1</td>\n",
              "      <td>0</td>\n",
              "      <td>0</td>\n",
              "      <td>0</td>\n",
              "      <td>0</td>\n",
              "    </tr>\n",
              "    <tr>\n",
              "      <th>...</th>\n",
              "      <td>...</td>\n",
              "      <td>...</td>\n",
              "      <td>...</td>\n",
              "      <td>...</td>\n",
              "      <td>...</td>\n",
              "      <td>...</td>\n",
              "      <td>...</td>\n",
              "      <td>...</td>\n",
              "      <td>...</td>\n",
              "      <td>...</td>\n",
              "      <td>...</td>\n",
              "      <td>...</td>\n",
              "      <td>...</td>\n",
              "    </tr>\n",
              "    <tr>\n",
              "      <th>69995</th>\n",
              "      <td>99993</td>\n",
              "      <td>19240</td>\n",
              "      <td>2</td>\n",
              "      <td>168</td>\n",
              "      <td>76.0</td>\n",
              "      <td>120</td>\n",
              "      <td>80</td>\n",
              "      <td>1</td>\n",
              "      <td>1</td>\n",
              "      <td>1</td>\n",
              "      <td>0</td>\n",
              "      <td>1</td>\n",
              "      <td>0</td>\n",
              "    </tr>\n",
              "    <tr>\n",
              "      <th>69996</th>\n",
              "      <td>99995</td>\n",
              "      <td>22601</td>\n",
              "      <td>1</td>\n",
              "      <td>158</td>\n",
              "      <td>126.0</td>\n",
              "      <td>140</td>\n",
              "      <td>90</td>\n",
              "      <td>2</td>\n",
              "      <td>2</td>\n",
              "      <td>0</td>\n",
              "      <td>0</td>\n",
              "      <td>1</td>\n",
              "      <td>1</td>\n",
              "    </tr>\n",
              "    <tr>\n",
              "      <th>69997</th>\n",
              "      <td>99996</td>\n",
              "      <td>19066</td>\n",
              "      <td>2</td>\n",
              "      <td>183</td>\n",
              "      <td>105.0</td>\n",
              "      <td>180</td>\n",
              "      <td>90</td>\n",
              "      <td>3</td>\n",
              "      <td>1</td>\n",
              "      <td>0</td>\n",
              "      <td>1</td>\n",
              "      <td>0</td>\n",
              "      <td>1</td>\n",
              "    </tr>\n",
              "    <tr>\n",
              "      <th>69998</th>\n",
              "      <td>99998</td>\n",
              "      <td>22431</td>\n",
              "      <td>1</td>\n",
              "      <td>163</td>\n",
              "      <td>72.0</td>\n",
              "      <td>135</td>\n",
              "      <td>80</td>\n",
              "      <td>1</td>\n",
              "      <td>2</td>\n",
              "      <td>0</td>\n",
              "      <td>0</td>\n",
              "      <td>0</td>\n",
              "      <td>1</td>\n",
              "    </tr>\n",
              "    <tr>\n",
              "      <th>69999</th>\n",
              "      <td>99999</td>\n",
              "      <td>20540</td>\n",
              "      <td>1</td>\n",
              "      <td>170</td>\n",
              "      <td>72.0</td>\n",
              "      <td>120</td>\n",
              "      <td>80</td>\n",
              "      <td>2</td>\n",
              "      <td>1</td>\n",
              "      <td>0</td>\n",
              "      <td>0</td>\n",
              "      <td>1</td>\n",
              "      <td>0</td>\n",
              "    </tr>\n",
              "  </tbody>\n",
              "</table>\n",
              "<p>70000 rows × 13 columns</p>\n",
              "</div>"
            ],
            "text/plain": [
              "          id    age  gender  height  weight  ap_hi  ap_lo  cholesterol  gluc  \\\n",
              "0          0  18393       2     168    62.0    110     80            1     1   \n",
              "1          1  20228       1     156    85.0    140     90            3     1   \n",
              "2          2  18857       1     165    64.0    130     70            3     1   \n",
              "3          3  17623       2     169    82.0    150    100            1     1   \n",
              "4          4  17474       1     156    56.0    100     60            1     1   \n",
              "...      ...    ...     ...     ...     ...    ...    ...          ...   ...   \n",
              "69995  99993  19240       2     168    76.0    120     80            1     1   \n",
              "69996  99995  22601       1     158   126.0    140     90            2     2   \n",
              "69997  99996  19066       2     183   105.0    180     90            3     1   \n",
              "69998  99998  22431       1     163    72.0    135     80            1     2   \n",
              "69999  99999  20540       1     170    72.0    120     80            2     1   \n",
              "\n",
              "       smoke  alco  active  cardio  \n",
              "0          0     0       1       0  \n",
              "1          0     0       1       1  \n",
              "2          0     0       0       1  \n",
              "3          0     0       1       1  \n",
              "4          0     0       0       0  \n",
              "...      ...   ...     ...     ...  \n",
              "69995      1     0       1       0  \n",
              "69996      0     0       1       1  \n",
              "69997      0     1       0       1  \n",
              "69998      0     0       0       1  \n",
              "69999      0     0       1       0  \n",
              "\n",
              "[70000 rows x 13 columns]"
            ]
          },
          "execution_count": 3,
          "metadata": {},
          "output_type": "execute_result"
        }
      ],
      "source": [
        "# Membaca file CSV ke dalam DataFrame\n",
        "df = pd.read_csv(os.path.join(path, 'cardio_train.csv'), sep=';')\n",
        "df"
      ]
    },
    {
      "cell_type": "code",
      "execution_count": 4,
      "id": "120ea8f5",
      "metadata": {
        "colab": {
          "base_uri": "https://localhost:8080/",
          "height": 424
        },
        "id": "120ea8f5",
        "outputId": "51e45420-7fd2-4de1-ea5a-72737b9f603c"
      },
      "outputs": [
        {
          "data": {
            "text/html": [
              "<div>\n",
              "<style scoped>\n",
              "    .dataframe tbody tr th:only-of-type {\n",
              "        vertical-align: middle;\n",
              "    }\n",
              "\n",
              "    .dataframe tbody tr th {\n",
              "        vertical-align: top;\n",
              "    }\n",
              "\n",
              "    .dataframe thead th {\n",
              "        text-align: right;\n",
              "    }\n",
              "</style>\n",
              "<table border=\"1\" class=\"dataframe\">\n",
              "  <thead>\n",
              "    <tr style=\"text-align: right;\">\n",
              "      <th></th>\n",
              "      <th>id</th>\n",
              "      <th>age</th>\n",
              "      <th>gender</th>\n",
              "      <th>height</th>\n",
              "      <th>weight</th>\n",
              "      <th>ap_hi</th>\n",
              "      <th>ap_lo</th>\n",
              "      <th>cholesterol</th>\n",
              "      <th>gluc</th>\n",
              "      <th>smoke</th>\n",
              "      <th>alco</th>\n",
              "      <th>active</th>\n",
              "      <th>cardio</th>\n",
              "    </tr>\n",
              "  </thead>\n",
              "  <tbody>\n",
              "    <tr>\n",
              "      <th>46730</th>\n",
              "      <td>66728</td>\n",
              "      <td>21770</td>\n",
              "      <td>1</td>\n",
              "      <td>156</td>\n",
              "      <td>64.0</td>\n",
              "      <td>140</td>\n",
              "      <td>80</td>\n",
              "      <td>2</td>\n",
              "      <td>1</td>\n",
              "      <td>0</td>\n",
              "      <td>0</td>\n",
              "      <td>1</td>\n",
              "      <td>1</td>\n",
              "    </tr>\n",
              "    <tr>\n",
              "      <th>48393</th>\n",
              "      <td>69098</td>\n",
              "      <td>21876</td>\n",
              "      <td>1</td>\n",
              "      <td>170</td>\n",
              "      <td>85.0</td>\n",
              "      <td>160</td>\n",
              "      <td>90</td>\n",
              "      <td>1</td>\n",
              "      <td>1</td>\n",
              "      <td>0</td>\n",
              "      <td>0</td>\n",
              "      <td>1</td>\n",
              "      <td>1</td>\n",
              "    </tr>\n",
              "    <tr>\n",
              "      <th>41416</th>\n",
              "      <td>59185</td>\n",
              "      <td>23270</td>\n",
              "      <td>1</td>\n",
              "      <td>151</td>\n",
              "      <td>90.0</td>\n",
              "      <td>130</td>\n",
              "      <td>80</td>\n",
              "      <td>1</td>\n",
              "      <td>1</td>\n",
              "      <td>0</td>\n",
              "      <td>0</td>\n",
              "      <td>1</td>\n",
              "      <td>1</td>\n",
              "    </tr>\n",
              "    <tr>\n",
              "      <th>34506</th>\n",
              "      <td>49288</td>\n",
              "      <td>19741</td>\n",
              "      <td>1</td>\n",
              "      <td>159</td>\n",
              "      <td>97.0</td>\n",
              "      <td>120</td>\n",
              "      <td>80</td>\n",
              "      <td>1</td>\n",
              "      <td>1</td>\n",
              "      <td>0</td>\n",
              "      <td>0</td>\n",
              "      <td>1</td>\n",
              "      <td>1</td>\n",
              "    </tr>\n",
              "    <tr>\n",
              "      <th>43725</th>\n",
              "      <td>62481</td>\n",
              "      <td>18395</td>\n",
              "      <td>1</td>\n",
              "      <td>164</td>\n",
              "      <td>68.0</td>\n",
              "      <td>120</td>\n",
              "      <td>80</td>\n",
              "      <td>1</td>\n",
              "      <td>1</td>\n",
              "      <td>0</td>\n",
              "      <td>0</td>\n",
              "      <td>1</td>\n",
              "      <td>0</td>\n",
              "    </tr>\n",
              "    <tr>\n",
              "      <th>...</th>\n",
              "      <td>...</td>\n",
              "      <td>...</td>\n",
              "      <td>...</td>\n",
              "      <td>...</td>\n",
              "      <td>...</td>\n",
              "      <td>...</td>\n",
              "      <td>...</td>\n",
              "      <td>...</td>\n",
              "      <td>...</td>\n",
              "      <td>...</td>\n",
              "      <td>...</td>\n",
              "      <td>...</td>\n",
              "      <td>...</td>\n",
              "    </tr>\n",
              "    <tr>\n",
              "      <th>20679</th>\n",
              "      <td>29516</td>\n",
              "      <td>19523</td>\n",
              "      <td>1</td>\n",
              "      <td>157</td>\n",
              "      <td>61.0</td>\n",
              "      <td>120</td>\n",
              "      <td>80</td>\n",
              "      <td>1</td>\n",
              "      <td>1</td>\n",
              "      <td>0</td>\n",
              "      <td>0</td>\n",
              "      <td>1</td>\n",
              "      <td>0</td>\n",
              "    </tr>\n",
              "    <tr>\n",
              "      <th>48140</th>\n",
              "      <td>68751</td>\n",
              "      <td>18397</td>\n",
              "      <td>1</td>\n",
              "      <td>157</td>\n",
              "      <td>79.0</td>\n",
              "      <td>145</td>\n",
              "      <td>90</td>\n",
              "      <td>2</td>\n",
              "      <td>1</td>\n",
              "      <td>0</td>\n",
              "      <td>0</td>\n",
              "      <td>1</td>\n",
              "      <td>1</td>\n",
              "    </tr>\n",
              "    <tr>\n",
              "      <th>59195</th>\n",
              "      <td>84523</td>\n",
              "      <td>15213</td>\n",
              "      <td>1</td>\n",
              "      <td>156</td>\n",
              "      <td>70.0</td>\n",
              "      <td>100</td>\n",
              "      <td>70</td>\n",
              "      <td>1</td>\n",
              "      <td>1</td>\n",
              "      <td>0</td>\n",
              "      <td>0</td>\n",
              "      <td>1</td>\n",
              "      <td>0</td>\n",
              "    </tr>\n",
              "    <tr>\n",
              "      <th>12633</th>\n",
              "      <td>18032</td>\n",
              "      <td>20504</td>\n",
              "      <td>1</td>\n",
              "      <td>158</td>\n",
              "      <td>57.0</td>\n",
              "      <td>120</td>\n",
              "      <td>70</td>\n",
              "      <td>1</td>\n",
              "      <td>1</td>\n",
              "      <td>0</td>\n",
              "      <td>0</td>\n",
              "      <td>1</td>\n",
              "      <td>0</td>\n",
              "    </tr>\n",
              "    <tr>\n",
              "      <th>39641</th>\n",
              "      <td>56646</td>\n",
              "      <td>19585</td>\n",
              "      <td>1</td>\n",
              "      <td>174</td>\n",
              "      <td>69.0</td>\n",
              "      <td>140</td>\n",
              "      <td>90</td>\n",
              "      <td>3</td>\n",
              "      <td>3</td>\n",
              "      <td>0</td>\n",
              "      <td>0</td>\n",
              "      <td>1</td>\n",
              "      <td>1</td>\n",
              "    </tr>\n",
              "  </tbody>\n",
              "</table>\n",
              "<p>10000 rows × 13 columns</p>\n",
              "</div>"
            ],
            "text/plain": [
              "          id    age  gender  height  weight  ap_hi  ap_lo  cholesterol  gluc  \\\n",
              "46730  66728  21770       1     156    64.0    140     80            2     1   \n",
              "48393  69098  21876       1     170    85.0    160     90            1     1   \n",
              "41416  59185  23270       1     151    90.0    130     80            1     1   \n",
              "34506  49288  19741       1     159    97.0    120     80            1     1   \n",
              "43725  62481  18395       1     164    68.0    120     80            1     1   \n",
              "...      ...    ...     ...     ...     ...    ...    ...          ...   ...   \n",
              "20679  29516  19523       1     157    61.0    120     80            1     1   \n",
              "48140  68751  18397       1     157    79.0    145     90            2     1   \n",
              "59195  84523  15213       1     156    70.0    100     70            1     1   \n",
              "12633  18032  20504       1     158    57.0    120     70            1     1   \n",
              "39641  56646  19585       1     174    69.0    140     90            3     3   \n",
              "\n",
              "       smoke  alco  active  cardio  \n",
              "46730      0     0       1       1  \n",
              "48393      0     0       1       1  \n",
              "41416      0     0       1       1  \n",
              "34506      0     0       1       1  \n",
              "43725      0     0       1       0  \n",
              "...      ...   ...     ...     ...  \n",
              "20679      0     0       1       0  \n",
              "48140      0     0       1       1  \n",
              "59195      0     0       1       0  \n",
              "12633      0     0       1       0  \n",
              "39641      0     0       1       1  \n",
              "\n",
              "[10000 rows x 13 columns]"
            ]
          },
          "execution_count": 4,
          "metadata": {},
          "output_type": "execute_result"
        }
      ],
      "source": [
        "# Mengambil 10000 data secara acak\n",
        "df = df.sample(n=10000, random_state=42)\n",
        "df"
      ]
    },
    {
      "cell_type": "code",
      "execution_count": 5,
      "id": "3QlY6UX0ot_m",
      "metadata": {
        "colab": {
          "base_uri": "https://localhost:8080/"
        },
        "id": "3QlY6UX0ot_m",
        "outputId": "4e75289c-d117-4787-989d-f973cc8f4d28"
      },
      "outputs": [
        {
          "data": {
            "text/plain": [
              "(10000, 13)"
            ]
          },
          "execution_count": 5,
          "metadata": {},
          "output_type": "execute_result"
        }
      ],
      "source": [
        "# Informasi jumlah row dan column\n",
        "df.shape"
      ]
    },
    {
      "cell_type": "markdown",
      "id": "0r20JahJy4gi",
      "metadata": {
        "id": "0r20JahJy4gi"
      },
      "source": [
        "Dataset terdiri dari 10000 data dan 13 kolom variabel."
      ]
    },
    {
      "cell_type": "code",
      "execution_count": 6,
      "id": "u4GScC7co0zb",
      "metadata": {
        "colab": {
          "base_uri": "https://localhost:8080/"
        },
        "id": "u4GScC7co0zb",
        "outputId": "a73c4b04-4a10-490a-e05f-387b1eb324b9"
      },
      "outputs": [
        {
          "name": "stdout",
          "output_type": "stream",
          "text": [
            "<class 'pandas.core.frame.DataFrame'>\n",
            "Index: 10000 entries, 46730 to 39641\n",
            "Data columns (total 13 columns):\n",
            " #   Column       Non-Null Count  Dtype  \n",
            "---  ------       --------------  -----  \n",
            " 0   id           10000 non-null  int64  \n",
            " 1   age          10000 non-null  int64  \n",
            " 2   gender       10000 non-null  int64  \n",
            " 3   height       10000 non-null  int64  \n",
            " 4   weight       10000 non-null  float64\n",
            " 5   ap_hi        10000 non-null  int64  \n",
            " 6   ap_lo        10000 non-null  int64  \n",
            " 7   cholesterol  10000 non-null  int64  \n",
            " 8   gluc         10000 non-null  int64  \n",
            " 9   smoke        10000 non-null  int64  \n",
            " 10  alco         10000 non-null  int64  \n",
            " 11  active       10000 non-null  int64  \n",
            " 12  cardio       10000 non-null  int64  \n",
            "dtypes: float64(1), int64(12)\n",
            "memory usage: 1.1 MB\n"
          ]
        }
      ],
      "source": [
        "# Informasi kolom pada dataset\n",
        "df.info()"
      ]
    },
    {
      "cell_type": "markdown",
      "id": "rFfQZCzWzCOZ",
      "metadata": {
        "id": "rFfQZCzWzCOZ"
      },
      "source": [
        " Semua kolom memiliki 10000 entri yang lengkap (non-null), sehingga tidak terdapat missing value. Semua tipe data kolom adalah numerik."
      ]
    },
    {
      "cell_type": "code",
      "execution_count": 7,
      "id": "bZkpRGg5o6HZ",
      "metadata": {
        "colab": {
          "base_uri": "https://localhost:8080/",
          "height": 320
        },
        "id": "bZkpRGg5o6HZ",
        "outputId": "8395eb47-9ea5-4df1-b671-56c4fd984930"
      },
      "outputs": [
        {
          "data": {
            "text/html": [
              "<div>\n",
              "<style scoped>\n",
              "    .dataframe tbody tr th:only-of-type {\n",
              "        vertical-align: middle;\n",
              "    }\n",
              "\n",
              "    .dataframe tbody tr th {\n",
              "        vertical-align: top;\n",
              "    }\n",
              "\n",
              "    .dataframe thead th {\n",
              "        text-align: right;\n",
              "    }\n",
              "</style>\n",
              "<table border=\"1\" class=\"dataframe\">\n",
              "  <thead>\n",
              "    <tr style=\"text-align: right;\">\n",
              "      <th></th>\n",
              "      <th>id</th>\n",
              "      <th>age</th>\n",
              "      <th>gender</th>\n",
              "      <th>height</th>\n",
              "      <th>weight</th>\n",
              "      <th>ap_hi</th>\n",
              "      <th>ap_lo</th>\n",
              "      <th>cholesterol</th>\n",
              "      <th>gluc</th>\n",
              "      <th>smoke</th>\n",
              "      <th>alco</th>\n",
              "      <th>active</th>\n",
              "      <th>cardio</th>\n",
              "    </tr>\n",
              "  </thead>\n",
              "  <tbody>\n",
              "    <tr>\n",
              "      <th>count</th>\n",
              "      <td>10000.000000</td>\n",
              "      <td>10000.000000</td>\n",
              "      <td>10000.000000</td>\n",
              "      <td>10000.000000</td>\n",
              "      <td>10000.000000</td>\n",
              "      <td>10000.000000</td>\n",
              "      <td>10000.000000</td>\n",
              "      <td>10000.000000</td>\n",
              "      <td>10000.000000</td>\n",
              "      <td>10000.000000</td>\n",
              "      <td>10000.000000</td>\n",
              "      <td>10000.000000</td>\n",
              "      <td>10000.000000</td>\n",
              "    </tr>\n",
              "    <tr>\n",
              "      <th>mean</th>\n",
              "      <td>49849.610200</td>\n",
              "      <td>19477.445200</td>\n",
              "      <td>1.354700</td>\n",
              "      <td>164.483200</td>\n",
              "      <td>74.261867</td>\n",
              "      <td>128.631000</td>\n",
              "      <td>93.698800</td>\n",
              "      <td>1.373500</td>\n",
              "      <td>1.234600</td>\n",
              "      <td>0.087200</td>\n",
              "      <td>0.049900</td>\n",
              "      <td>0.802400</td>\n",
              "      <td>0.503600</td>\n",
              "    </tr>\n",
              "    <tr>\n",
              "      <th>std</th>\n",
              "      <td>28741.069831</td>\n",
              "      <td>2467.753159</td>\n",
              "      <td>0.478446</td>\n",
              "      <td>8.347975</td>\n",
              "      <td>14.494832</td>\n",
              "      <td>161.476124</td>\n",
              "      <td>131.750461</td>\n",
              "      <td>0.685744</td>\n",
              "      <td>0.584634</td>\n",
              "      <td>0.282142</td>\n",
              "      <td>0.217749</td>\n",
              "      <td>0.398209</td>\n",
              "      <td>0.500012</td>\n",
              "    </tr>\n",
              "    <tr>\n",
              "      <th>min</th>\n",
              "      <td>4.000000</td>\n",
              "      <td>14282.000000</td>\n",
              "      <td>1.000000</td>\n",
              "      <td>57.000000</td>\n",
              "      <td>10.000000</td>\n",
              "      <td>-150.000000</td>\n",
              "      <td>-70.000000</td>\n",
              "      <td>1.000000</td>\n",
              "      <td>1.000000</td>\n",
              "      <td>0.000000</td>\n",
              "      <td>0.000000</td>\n",
              "      <td>0.000000</td>\n",
              "      <td>0.000000</td>\n",
              "    </tr>\n",
              "    <tr>\n",
              "      <th>25%</th>\n",
              "      <td>24792.500000</td>\n",
              "      <td>17657.000000</td>\n",
              "      <td>1.000000</td>\n",
              "      <td>159.000000</td>\n",
              "      <td>65.000000</td>\n",
              "      <td>120.000000</td>\n",
              "      <td>80.000000</td>\n",
              "      <td>1.000000</td>\n",
              "      <td>1.000000</td>\n",
              "      <td>0.000000</td>\n",
              "      <td>0.000000</td>\n",
              "      <td>1.000000</td>\n",
              "      <td>0.000000</td>\n",
              "    </tr>\n",
              "    <tr>\n",
              "      <th>50%</th>\n",
              "      <td>50344.000000</td>\n",
              "      <td>19719.000000</td>\n",
              "      <td>1.000000</td>\n",
              "      <td>165.000000</td>\n",
              "      <td>72.000000</td>\n",
              "      <td>120.000000</td>\n",
              "      <td>80.000000</td>\n",
              "      <td>1.000000</td>\n",
              "      <td>1.000000</td>\n",
              "      <td>0.000000</td>\n",
              "      <td>0.000000</td>\n",
              "      <td>1.000000</td>\n",
              "      <td>1.000000</td>\n",
              "    </tr>\n",
              "    <tr>\n",
              "      <th>75%</th>\n",
              "      <td>74297.750000</td>\n",
              "      <td>21329.000000</td>\n",
              "      <td>2.000000</td>\n",
              "      <td>170.000000</td>\n",
              "      <td>82.000000</td>\n",
              "      <td>140.000000</td>\n",
              "      <td>90.000000</td>\n",
              "      <td>2.000000</td>\n",
              "      <td>1.000000</td>\n",
              "      <td>0.000000</td>\n",
              "      <td>0.000000</td>\n",
              "      <td>1.000000</td>\n",
              "      <td>1.000000</td>\n",
              "    </tr>\n",
              "    <tr>\n",
              "      <th>max</th>\n",
              "      <td>99963.000000</td>\n",
              "      <td>23692.000000</td>\n",
              "      <td>2.000000</td>\n",
              "      <td>198.000000</td>\n",
              "      <td>183.000000</td>\n",
              "      <td>16020.000000</td>\n",
              "      <td>8099.000000</td>\n",
              "      <td>3.000000</td>\n",
              "      <td>3.000000</td>\n",
              "      <td>1.000000</td>\n",
              "      <td>1.000000</td>\n",
              "      <td>1.000000</td>\n",
              "      <td>1.000000</td>\n",
              "    </tr>\n",
              "  </tbody>\n",
              "</table>\n",
              "</div>"
            ],
            "text/plain": [
              "                 id           age        gender        height        weight  \\\n",
              "count  10000.000000  10000.000000  10000.000000  10000.000000  10000.000000   \n",
              "mean   49849.610200  19477.445200      1.354700    164.483200     74.261867   \n",
              "std    28741.069831   2467.753159      0.478446      8.347975     14.494832   \n",
              "min        4.000000  14282.000000      1.000000     57.000000     10.000000   \n",
              "25%    24792.500000  17657.000000      1.000000    159.000000     65.000000   \n",
              "50%    50344.000000  19719.000000      1.000000    165.000000     72.000000   \n",
              "75%    74297.750000  21329.000000      2.000000    170.000000     82.000000   \n",
              "max    99963.000000  23692.000000      2.000000    198.000000    183.000000   \n",
              "\n",
              "              ap_hi         ap_lo   cholesterol          gluc         smoke  \\\n",
              "count  10000.000000  10000.000000  10000.000000  10000.000000  10000.000000   \n",
              "mean     128.631000     93.698800      1.373500      1.234600      0.087200   \n",
              "std      161.476124    131.750461      0.685744      0.584634      0.282142   \n",
              "min     -150.000000    -70.000000      1.000000      1.000000      0.000000   \n",
              "25%      120.000000     80.000000      1.000000      1.000000      0.000000   \n",
              "50%      120.000000     80.000000      1.000000      1.000000      0.000000   \n",
              "75%      140.000000     90.000000      2.000000      1.000000      0.000000   \n",
              "max    16020.000000   8099.000000      3.000000      3.000000      1.000000   \n",
              "\n",
              "               alco        active        cardio  \n",
              "count  10000.000000  10000.000000  10000.000000  \n",
              "mean       0.049900      0.802400      0.503600  \n",
              "std        0.217749      0.398209      0.500012  \n",
              "min        0.000000      0.000000      0.000000  \n",
              "25%        0.000000      1.000000      0.000000  \n",
              "50%        0.000000      1.000000      1.000000  \n",
              "75%        0.000000      1.000000      1.000000  \n",
              "max        1.000000      1.000000      1.000000  "
            ]
          },
          "execution_count": 7,
          "metadata": {},
          "output_type": "execute_result"
        }
      ],
      "source": [
        "# Informasi rata-rata, std, min, max, dll pada dataset\n",
        "df.describe()"
      ]
    },
    {
      "cell_type": "markdown",
      "id": "ei3he0D4zqLU",
      "metadata": {
        "id": "ei3he0D4zqLU"
      },
      "source": [
        "Berdasarkan statistik deskriptif, usia pasien berkisar antara 39 hingga 65 tahun. Rata-rata tinggi badan 164 cm dan berat badan 74 kg, dengan beberapa pasien mengalami obesitas. Tekanan darah menunjukkan adanya nilai ekstrem yang tidak wajar, sehingga perlu dilakukan pembersihan data. Mayoritas pasien memiliki kolesterol dan glukosa normal hingga sedikit tinggi, tidak merokok, tidak mengonsumsi alkohol, dan aktif secara fisik. Sekitar 50% pasien menderita penyakit kardiovaskular."
      ]
    },
    {
      "cell_type": "markdown",
      "id": "Zwy_AH87pS0O",
      "metadata": {
        "id": "Zwy_AH87pS0O"
      },
      "source": [
        "## **Exploratory Data Analysis** <br>\n"
      ]
    },
    {
      "cell_type": "markdown",
      "id": "-63BUuHorsUY",
      "metadata": {
        "id": "-63BUuHorsUY"
      },
      "source": [
        "**1. Berapa rentang usia pasien dalam dataset?**"
      ]
    },
    {
      "cell_type": "markdown",
      "id": "v01BQYuqsNf0",
      "metadata": {
        "id": "v01BQYuqsNf0"
      },
      "source": [
        "pada dataset ini, kolom `age` disimpan dalam satuan hari, maka dikonversi ke tahun."
      ]
    },
    {
      "cell_type": "code",
      "execution_count": 8,
      "id": "Aq1pQd9qrwXe",
      "metadata": {
        "colab": {
          "base_uri": "https://localhost:8080/"
        },
        "id": "Aq1pQd9qrwXe",
        "outputId": "a5b1fdc9-ce25-4d95-b285-b56c564b66b0"
      },
      "outputs": [
        {
          "name": "stdout",
          "output_type": "stream",
          "text": [
            "Rentang usia pasien: 39 - 64 tahun\n"
          ]
        }
      ],
      "source": [
        "# Konversi usia ke tahun\n",
        "df['age_years'] = (df['age'] / 365).astype(int)\n",
        "usia_min = df['age_years'].min()\n",
        "usia_max = df['age_years'].max()\n",
        "print(f\"Rentang usia pasien: {usia_min} - {usia_max} tahun\")"
      ]
    },
    {
      "cell_type": "code",
      "execution_count": 9,
      "id": "qqrbuXqxs5Pn",
      "metadata": {
        "colab": {
          "base_uri": "https://localhost:8080/",
          "height": 496
        },
        "id": "qqrbuXqxs5Pn",
        "outputId": "ebb7d002-0c16-471d-8add-8db06d0b83ea"
      },
      "outputs": [
        {
          "data": {
            "image/png": "[encoded data removed]",
            "text/plain": [
              "<Figure size 800x500 with 1 Axes>"
            ]
          },
          "metadata": {},
          "output_type": "display_data"
        }
      ],
      "source": [
        "plt.figure(figsize=(8, 5))\n",
        "sns.histplot(df[\"age_years\"], bins=20, kde=True, color='skyblue')\n",
        "plt.title(\"Distribusi Usia Pasien (dalam Tahun)\")\n",
        "plt.xlabel(\"Usia (Tahun)\")\n",
        "plt.ylabel(\"Jumlah Pasien\")\n",
        "plt.grid(True)\n",
        "plt.show()"
      ]
    },
    {
      "cell_type": "markdown",
      "id": "2PO_5EH_0B-g",
      "metadata": {
        "id": "2PO_5EH_0B-g"
      },
      "source": [
        "Distribusi usia pasien menunjukkan bahwa sebagian besar pasien berada dalam rentang usia 39–64 tahun. Hal ini mengindikasikan bahwa penyakit kardiovaskular dalam dataset ini lebih banyak terjadi pada kelompok usia paruh baya hingga lanjut usia."
      ]
    },
    {
      "cell_type": "markdown",
      "id": "HmMn9cSZtE2B",
      "metadata": {
        "id": "HmMn9cSZtE2B"
      },
      "source": [
        "**2. Berapa banyak pria dan wanita yang terwakili dalam dataset?**"
      ]
    },
    {
      "cell_type": "code",
      "execution_count": 10,
      "id": "MOAm00fMtKzr",
      "metadata": {
        "colab": {
          "base_uri": "https://localhost:8080/"
        },
        "id": "MOAm00fMtKzr",
        "outputId": "94d5eb9a-9c12-4520-df4e-f57bc5844dc7"
      },
      "outputs": [
        {
          "name": "stdout",
          "output_type": "stream",
          "text": [
            "Perempuan    6453\n",
            "Laki-laki    3547\n",
            "Name: count, dtype: int64\n"
          ]
        }
      ],
      "source": [
        "gender_count = df['gender'].value_counts()\n",
        "gender_count.index = ['Perempuan', 'Laki-laki']\n",
        "print(gender_count)"
      ]
    },
    {
      "cell_type": "code",
      "execution_count": 11,
      "id": "U6_-ZGgYtMV1",
      "metadata": {
        "colab": {
          "base_uri": "https://localhost:8080/",
          "height": 501
        },
        "id": "U6_-ZGgYtMV1",
        "outputId": "43658fa2-f3b0-4d39-dc4c-88b08d0c6728"
      },
      "outputs": [
        {
          "data": {
            "image/png": "[encoded data removed]",
            "text/plain": [
              "<Figure size 600x500 with 1 Axes>"
            ]
          },
          "metadata": {},
          "output_type": "display_data"
        }
      ],
      "source": [
        "plt.figure(figsize=(6, 5))\n",
        "colors = ['pink', 'skyblue']\n",
        "gender_count.plot(kind='bar', color=colors)\n",
        "plt.title(\"Distribusi Jenis Kelamin Pasien\")\n",
        "plt.xlabel(\"Jenis Kelamin\")\n",
        "plt.ylabel(\"Jumlah Pasien\")\n",
        "plt.xticks(rotation=0)\n",
        "plt.grid(axis='y', linestyle='--', alpha=0.7)\n",
        "plt.tight_layout()\n",
        "plt.show()"
      ]
    },
    {
      "cell_type": "markdown",
      "id": "B9ZMc6xP0UIA",
      "metadata": {
        "id": "B9ZMc6xP0UIA"
      },
      "source": [
        "Jumlah pasien perempuan lebih banyak dibandingkan laki-laki, dengan 6.453 perempuan dan 3.547 laki-laki. Hal ini menunjukkan representasi pasien perempuan hampir dua kali lipat dari pasien laki-laki."
      ]
    },
    {
      "cell_type": "markdown",
      "id": "SHHb4mLZtrIc",
      "metadata": {
        "id": "SHHb4mLZtrIc"
      },
      "source": [
        "**3. Berapa tekanan darah rata-rata pasien?**"
      ]
    },
    {
      "cell_type": "code",
      "execution_count": 12,
      "id": "Cz5bbff_t5Od",
      "metadata": {
        "colab": {
          "base_uri": "https://localhost:8080/"
        },
        "id": "Cz5bbff_t5Od",
        "outputId": "babb3eb9-a991-4464-92c5-0bc7c5a26773"
      },
      "outputs": [
        {
          "name": "stdout",
          "output_type": "stream",
          "text": [
            "Tekanan darah rata-rata: 128.63/93.70 mmHg\n"
          ]
        }
      ],
      "source": [
        "mean_sys = df['ap_hi'].mean()\n",
        "mean_dia = df['ap_lo'].mean()\n",
        "print(f\"Tekanan darah rata-rata: {mean_sys:.2f}/{mean_dia:.2f} mmHg\")"
      ]
    },
    {
      "cell_type": "code",
      "execution_count": 13,
      "id": "FPjtBVLnuNAb",
      "metadata": {
        "colab": {
          "base_uri": "https://localhost:8080/",
          "height": 472
        },
        "id": "FPjtBVLnuNAb",
        "outputId": "772f299b-f74a-4e67-de5a-290877c878e4"
      },
      "outputs": [
        {
          "data": {
            "image/png": "[encoded data removed]",
            "text/plain": [
              "<Figure size 600x500 with 1 Axes>"
            ]
          },
          "metadata": {},
          "output_type": "display_data"
        }
      ],
      "source": [
        "plt.figure(figsize=(6, 5))\n",
        "mean_ap_hi = df[\"ap_hi\"].mean()\n",
        "mean_ap_lo = df[\"ap_lo\"].mean()\n",
        "plt.bar([\"Sistolik\", \"Diastolik\"], [mean_ap_hi, mean_ap_lo], color=['#FFD1A9', '#D1C2F0'])\n",
        "plt.title(\"Tekanan Darah Rata-rata Pasien\")\n",
        "plt.ylabel(\"mmHg\")\n",
        "plt.show()"
      ]
    },
    {
      "cell_type": "markdown",
      "id": "tR8v2FKT0kgT",
      "metadata": {
        "id": "tR8v2FKT0kgT"
      },
      "source": [
        "Tekanan darah rata-rata pasien dalam dataset adalah 128.63 mmHg untuk sistolik dan 93.70 mmHg untuk diastolik. Nilai ini menunjukkan bahwa rata-rata pasien memiliki tekanan darah yang cenderung tinggi, mendekati atau melebihi batas normal."
      ]
    },
    {
      "cell_type": "markdown",
      "id": "YxZdosxZujNX",
      "metadata": {
        "id": "YxZdosxZujNX"
      },
      "source": [
        "**4. Berapa persen pasian yang memiliki gula darah lebih dari 120 mg/dl??**\n"
      ]
    },
    {
      "cell_type": "code",
      "execution_count": 14,
      "id": "rxUhJPj1uqAm",
      "metadata": {
        "colab": {
          "base_uri": "https://localhost:8080/"
        },
        "id": "rxUhJPj1uqAm",
        "outputId": "b8c5f8ef-27b5-43a3-d98d-a766c503d2df"
      },
      "outputs": [
        {
          "name": "stdout",
          "output_type": "stream",
          "text": [
            "15.35% pasien memiliki kadar glukosa lebih dari 120 mg/dL.\n"
          ]
        }
      ],
      "source": [
        "glukosa = df[df['gluc'] > 1].shape[0]\n",
        "persen = (glukosa / len(df)) * 100\n",
        "print(f\"{persen:.2f}% pasien memiliki kadar glukosa lebih dari 120 mg/dL.\")"
      ]
    },
    {
      "cell_type": "code",
      "execution_count": 15,
      "id": "VRnStcIIux5z",
      "metadata": {
        "colab": {
          "base_uri": "https://localhost:8080/",
          "height": 444
        },
        "id": "VRnStcIIux5z",
        "outputId": "875af3e0-9efe-45fd-c603-4349b08e490a"
      },
      "outputs": [
        {
          "data": {
            "image/png": "[encoded data removed]",
            "text/plain": [
              "<Figure size 600x500 with 1 Axes>"
            ]
          },
          "metadata": {},
          "output_type": "display_data"
        }
      ],
      "source": [
        "df[\"gluc_level\"] = df[\"gluc\"].apply(lambda x: \"Normal\" if x == 1 else \"Tinggi\")\n",
        "gluc_counts = df[\"gluc_level\"].value_counts()\n",
        "\n",
        "plt.figure(figsize=(6, 5))\n",
        "plt.pie(gluc_counts, labels=gluc_counts.index, autopct='%1.1f%%', colors=['#A8D5BA', '#FFB3B3'])\n",
        "plt.title(\"Persentase Pasien dengan Glukosa > 120 mg/dL\")\n",
        "plt.show()"
      ]
    },
    {
      "cell_type": "markdown",
      "id": "MkTxz-rf029o",
      "metadata": {
        "id": "MkTxz-rf029o"
      },
      "source": [
        "Sebanyak 15,35% pasien dalam dataset memiliki kadar glukosa darah lebih dari 120 mg/dL, menunjukkan bahwa sebagian pasien berisiko mengalami gangguan gula darah atau diabetes. Visualisasi pie chart di atas menunjukkan perbandingan jelas antara pasien dengan kadar glukosa normal dan tinggi."
      ]
    },
    {
      "cell_type": "markdown",
      "id": "KUNaa1Jbw5ln",
      "metadata": {
        "id": "KUNaa1Jbw5ln"
      },
      "source": [
        "**5. Bagaimana distribusi tingkat kolesterol pasien dalam dataset, dan berapa persen pasien yang memiliki kolesterol di atas normal?**"
      ]
    },
    {
      "cell_type": "code",
      "execution_count": 16,
      "id": "8-FjM3UCwBqR",
      "metadata": {
        "colab": {
          "base_uri": "https://localhost:8080/",
          "height": 554
        },
        "id": "8-FjM3UCwBqR",
        "outputId": "f5c7e01b-9ee4-4b7a-a4eb-18c395dcdcda"
      },
      "outputs": [
        {
          "data": {
            "image/png": "[encoded data removed]",
            "text/plain": [
              "<Figure size 600x600 with 1 Axes>"
            ]
          },
          "metadata": {},
          "output_type": "display_data"
        }
      ],
      "source": [
        "chol_counts = df['cholesterol'].value_counts()\n",
        "label_mapping = {\n",
        "    1: 'Normal',\n",
        "    2: 'Di atas Normal',\n",
        "    3: 'Jauh di atas Normal'\n",
        "}\n",
        "\n",
        "labels = [label_mapping[i] for i in chol_counts.index]\n",
        "colors = ['#A8D5BA', '#FFE29A', '#FFB3B3']\n",
        "\n",
        "plt.figure(figsize=(6,6))\n",
        "plt.pie(chol_counts, labels=labels, autopct='%1.1f%%', startangle=90,\n",
        "        colors=colors, wedgeprops={'width': 0.4})\n",
        "plt.title('Distribusi Tingkat Kolesterol Pasien')\n",
        "plt.tight_layout()\n",
        "plt.show()"
      ]
    },
    {
      "cell_type": "markdown",
      "id": "q7bzfP4L1PAg",
      "metadata": {
        "id": "q7bzfP4L1PAg"
      },
      "source": [
        "Sebagian besar pasien, yaitu 74,5%, memiliki kadar kolesterol normal. Namun, terdapat 13,7% pasien dengan kolesterol di atas normal dan 11,8% dengan kadar kolesterol jauh di atas normal, menunjukkan adanya risiko kesehatan yang perlu diperhatikan pada sekitar 25% pasien. Visualisasi pie chart di atas menunjukkan proporsi tiap kategori kolesterol dengan jelas."
      ]
    },
    {
      "cell_type": "markdown",
      "id": "ljcoF1ouB0Xj",
      "metadata": {
        "id": "ljcoF1ouB0Xj"
      },
      "source": [
        "**6. Bagaimana distribusi berat badan pasien?**"
      ]
    },
    {
      "cell_type": "code",
      "execution_count": 17,
      "id": "evpO1vkUpaPa",
      "metadata": {
        "colab": {
          "base_uri": "https://localhost:8080/",
          "height": 496
        },
        "id": "evpO1vkUpaPa",
        "outputId": "285013e2-af28-4368-e5f6-51fc0ae6b9d3"
      },
      "outputs": [
        {
          "data": {
            "image/png": "[encoded data removed]",
            "text/plain": [
              "<Figure size 800x500 with 1 Axes>"
            ]
          },
          "metadata": {},
          "output_type": "display_data"
        }
      ],
      "source": [
        "plt.figure(figsize=(8,5))\n",
        "sns.histplot(df['weight'], bins=30, kde=True, color='lightgreen')\n",
        "plt.title(\"Distribusi Berat Badan Pasien (kg)\")\n",
        "plt.xlabel(\"Berat Badan (kg)\")\n",
        "plt.ylabel(\"Jumlah Pasien\")\n",
        "plt.axvline(df['weight'].mean(), color='red', linestyle='--', label='Mean')\n",
        "plt.axvline(df['weight'].median(), color='blue', linestyle='--', label='Median')\n",
        "plt.legend()\n",
        "plt.grid(True)\n",
        "plt.show()\n"
      ]
    },
    {
      "cell_type": "markdown",
      "id": "CRJ8qvdLQ7hn",
      "metadata": {
        "id": "CRJ8qvdLQ7hn"
      },
      "source": [
        "Terlihat bahwa distribusi berat badan cenderung tidak simetris (skew ke kanan), dengan adanya \"ekor\" di sisi kanan, menunjukkan bahwa ada beberapa pasien yang memiliki berat badan yang jauh lebih tinggi dibandingkan mayoritas pasien. Garis mean dan median menunjukkan bahwa mayoritas dan rata-rata subjek berusia sekitar 75 tahun."
      ]
    },
    {
      "cell_type": "markdown",
      "id": "aP0z6iKzEqnk",
      "metadata": {
        "id": "aP0z6iKzEqnk"
      },
      "source": [
        "**7. Bagaimana korelasi setiap variabel numerik terhadap kardiovaskular?**"
      ]
    },
    {
      "cell_type": "code",
      "execution_count": 18,
      "id": "n5vLPuPvIaWg",
      "metadata": {
        "colab": {
          "base_uri": "https://localhost:8080/",
          "height": 842
        },
        "id": "n5vLPuPvIaWg",
        "outputId": "58423048-e057-434c-d93a-2c3f8486badb"
      },
      "outputs": [
        {
          "name": "stdout",
          "output_type": "stream",
          "text": [
            "Korelasi tiap variabel dengan target 'cardio':\n",
            "age_years      0.239977\n",
            "cholesterol    0.230440\n",
            "weight         0.194229\n",
            "gluc           0.080930\n",
            "ap_lo          0.080352\n",
            "ap_hi          0.053436\n",
            "alco           0.016262\n",
            "gender        -0.003039\n",
            "height        -0.006215\n",
            "smoke         -0.009315\n",
            "active        -0.045149\n",
            "dtype: float64\n"
          ]
        },
        {
          "name": "stderr",
          "output_type": "stream",
          "text": [
            "/var/folders/m2/f0dmk8qn71593x9d7n6nlxl00000gn/T/ipykernel_2687/3916782350.py:9: FutureWarning: \n",
            "\n",
            "Passing `palette` without assigning `hue` is deprecated and will be removed in v0.14.0. Assign the `y` variable to `hue` and set `legend=False` for the same effect.\n",
            "\n",
            "  sns.barplot(x=correlations.values, y=correlations.index, palette='viridis')\n"
          ]
        },
        {
          "data": {
            "image/png": "[encoded data removed]",
            "text/plain": [
              "<Figure size 800x500 with 1 Axes>"
            ]
          },
          "metadata": {},
          "output_type": "display_data"
        }
      ],
      "source": [
        "num_cols = df.select_dtypes(include=['int64', 'float64']).columns.drop(['cardio', 'age', 'id'])\n",
        "\n",
        "correlations = df[num_cols].corrwith(df['cardio']).sort_values(ascending=False)\n",
        "\n",
        "print(\"Korelasi tiap variabel dengan target 'cardio':\")\n",
        "print(correlations)\n",
        "\n",
        "plt.figure(figsize=(8,5))\n",
        "sns.barplot(x=correlations.values, y=correlations.index, palette='viridis')\n",
        "plt.title(\"Korelasi Variabel Numerik terhadap Target Penyakit Jantung (cardio)\")\n",
        "plt.xlabel(\"Koefisien Korelasi Pearson\")\n",
        "plt.ylabel(\"Variabel\")\n",
        "plt.grid(axis='x', linestyle='--', alpha=0.7)\n",
        "plt.tight_layout()\n",
        "plt.show()"
      ]
    },
    {
      "cell_type": "markdown",
      "id": "wFFIHxJuVjLf",
      "metadata": {
        "id": "wFFIHxJuVjLf"
      },
      "source": [
        "Variabel yang paling berkorelasi dengan penyakit kardiovaskular adalah usia pasien (`age_years`), diikuti oleh kadar kolesterol (`cholestrol`) dan berat badan (`weight`) secara berturut-turut. Ketiga variabel ini menunjukkan hubungan positif, artinya semakin tinggi nilai variabel-variabel tersebut, semakin besar kemungkinan seseorang mengalami penyakit jantung.\n",
        "\n",
        "Variabel seperti kadar glukosa (`gluc`), tekanan darah (`ap_hi`, `ap_lo`), dan konsumsi alkohol (`alco`) menunjukkan korelasi yang lemah namun masih positif terhadap risiko penyakit. Meskipun korelasinya rendah, tetap ada indikasi kontribusi terhadap kondisi kardiovaskular.\n",
        "\n",
        "Sementara itu, variabel seperti aktivitas fisik (`active`), merokok (`smoke`), tinggi badan (`height`), dan jenis kelamin (`gender`) memiliki korelasi negatif sangat lemah dengan penyakit kardiovaskular. Hal ini mengindikasikan bahwa hubungan linier langsung antar variabel-variabel tersebut terhadap penyakit tidak terlalu kuat, meskipun tetap bisa berkontribusi secara tidak langsung atau interaktif."
      ]
    },
    {
      "cell_type": "markdown",
      "id": "Ul_fk5rTEpvW",
      "metadata": {
        "id": "Ul_fk5rTEpvW"
      },
      "source": [
        "**8. Bagaimana distribusi penyakit berdasarkan gender dan aktivitas fisik?**"
      ]
    },
    {
      "cell_type": "code",
      "execution_count": 19,
      "id": "Cga3O7ckYHOb",
      "metadata": {
        "colab": {
          "base_uri": "https://localhost:8080/",
          "height": 501
        },
        "id": "Cga3O7ckYHOb",
        "outputId": "493b322a-f711-42f6-9e60-7e8e1722e75c"
      },
      "outputs": [
        {
          "data": {
            "image/png": "[encoded data removed]",
            "text/plain": [
              "<Figure size 800x500 with 1 Axes>"
            ]
          },
          "metadata": {},
          "output_type": "display_data"
        }
      ],
      "source": [
        "plt.figure(figsize=(8,5))\n",
        "sns.barplot(data=df, x='gender', y='cardio', hue='active', palette='Set2')\n",
        "plt.title(\"Proporsi Penyakit Kardiovaskular Berdasarkan Gender dan Aktivitas Fisik\")\n",
        "plt.xlabel(\"Gender (1=Pria, 2=Wanita)\")\n",
        "plt.ylabel(\"Proporsi Penyakit Kardiovaskular\")\n",
        "plt.legend(title=\"Aktif secara Fisik (1=Ya, 0=Tidak)\")\n",
        "plt.grid(axis='y', linestyle='--', alpha=0.7)\n",
        "plt.tight_layout()\n",
        "plt.show()\n"
      ]
    },
    {
      "cell_type": "markdown",
      "id": "jGhMPg_kZe4e",
      "metadata": {
        "id": "jGhMPg_kZe4e"
      },
      "source": [
        "Visualisasi ini menunjukkan proporsi penyakit kardiovaskular berdasarkan gender dan aktivitas fisik, di mana baik pada kelompok pria maupun wanita, individu yang tidak aktif secara fisik cenderung memiliki proporsi penyakit kardiovaskular yang lebih tinggi dibandingkan dengan mereka yang aktif secara fisik, mengindikasikan bahwa aktivitas fisik dapat menjadi faktor protektif independen dari gender."
      ]
    },
    {
      "cell_type": "markdown",
      "id": "1u9cXccbaFyc",
      "metadata": {
        "id": "1u9cXccbaFyc"
      },
      "source": [
        "**9. Bagaimana pengaruh berat badan dan tinggi badan terhadap risiko penyakit kardiovaskular?**"
      ]
    },
    {
      "cell_type": "code",
      "execution_count": 20,
      "id": "nMOBc-anaNGm",
      "metadata": {
        "colab": {
          "base_uri": "https://localhost:8080/",
          "height": 606
        },
        "id": "nMOBc-anaNGm",
        "outputId": "5dc1db37-1d19-473a-9cf0-ca82a21cbf5f"
      },
      "outputs": [
        {
          "name": "stdout",
          "output_type": "stream",
          "text": [
            "BMI_Category\n",
            "Overweight    3714\n",
            "Normal        3525\n",
            "Obesitas      2657\n",
            "Kurus          104\n",
            "Name: count, dtype: int64\n"
          ]
        },
        {
          "data": {
            "text/plain": [
              "<Figure size 800x500 with 0 Axes>"
            ]
          },
          "metadata": {},
          "output_type": "display_data"
        },
        {
          "data": {
            "image/png": "[encoded data removed]",
            "text/plain": [
              "<Figure size 640x480 with 1 Axes>"
            ]
          },
          "metadata": {},
          "output_type": "display_data"
        }
      ],
      "source": [
        "# Hitung BMI\n",
        "df['BMI'] = df['weight'] / (df['height'] / 100) ** 2\n",
        "\n",
        "# Klasifikasi kategori BMI\n",
        "df['BMI_Category'] = pd.cut(df['BMI'],\n",
        "                            bins=[0, 18.5, 24.9, 29.9, float('inf')],\n",
        "                            labels=['Kurus', 'Normal', 'Overweight', 'Obesitas'],\n",
        "                            right=True)\n",
        "\n",
        "# Cek jumlah pasien per kategori BMI\n",
        "print(df['BMI_Category'].value_counts())\n",
        "\n",
        "# Buat crosstab persentase penyakit kardiovaskular per kategori BMI\n",
        "bmi_cardio = pd.crosstab(df['BMI_Category'], df['cardio'], normalize='index') * 100\n",
        "bmi_cardio = bmi_cardio.rename(columns={0: 'Tidak Kardio', 1: 'Kardio'})\n",
        "\n",
        "# Pastikan semua kategori ada, isi 0 jika kosong\n",
        "bmi_order = ['Kurus', 'Normal', 'Overweight', 'Obesitas']\n",
        "bmi_cardio = bmi_cardio.reindex(bmi_order, fill_value=0)\n",
        "\n",
        "# Urutkan kolom supaya 'Kardio' di depan 'Tidak Kardio'\n",
        "bmi_cardio = bmi_cardio[['Kardio', 'Tidak Kardio']]\n",
        "\n",
        "# Plot bar stacked\n",
        "plt.figure(figsize=(8,5))\n",
        "bmi_cardio.plot(kind='bar', stacked=True, color=['#e63946','#a8dadc'])\n",
        "plt.title(\"Proporsi Penyakit Kardiovaskular Berdasarkan Kategori BMI\")\n",
        "plt.xlabel(\"Kategori BMI\")\n",
        "plt.ylabel(\"Persentase (%)\")\n",
        "plt.xticks(rotation=0)\n",
        "plt.legend(title='Status Kardiovaskular')\n",
        "plt.grid(axis='y', linestyle='--', alpha=0.7)\n",
        "plt.tight_layout()\n",
        "plt.show()\n"
      ]
    },
    {
      "cell_type": "markdown",
      "id": "8WmH2gLIb71T",
      "metadata": {
        "id": "8WmH2gLIb71T"
      },
      "source": [
        "Proporsi penyakit kardiovaskular meningkat secara signifikan seiring dengan peningkatan kategori Indeks Massa Tubuh (BMI) dari \"Kurus\" hingga \"Obesitas\", di mana kategori \"Obesitas\" memiliki proporsi penyakit tertinggi. BMI sendiri merupakan metrik yang dihitung dari berat badan dan tinggi badan, sehingga tinggi badan juga berkontribusi pada nilai BMI. Meskipun korelasi tinggi badan secara individual dengan penyakit kardiovaskular mungkin sangat kecil, kombinasi berat dan tinggi badan dalam bentuk BMI jelas menunjukkan korelasi yang kuat dengan risiko penyakit jantung, menekankan bahwa tinggi badan secara keseluruhan adalah faktor risiko yang penting."
      ]
    },
    {
      "cell_type": "markdown",
      "id": "4papCRaJEsXx",
      "metadata": {
        "id": "4papCRaJEsXx"
      },
      "source": [
        "**10. Bagaimana risiko penyakit berdasarkan usia dan merokok?**"
      ]
    },
    {
      "cell_type": "code",
      "execution_count": 21,
      "id": "kwUJMOLWLQUM",
      "metadata": {
        "colab": {
          "base_uri": "https://localhost:8080/",
          "height": 601
        },
        "id": "kwUJMOLWLQUM",
        "outputId": "740d7022-ca05-4c2a-f38e-010cd628b411"
      },
      "outputs": [
        {
          "data": {
            "image/png": "[encoded data removed]",
            "text/plain": [
              "<Figure size 1000x600 with 1 Axes>"
            ]
          },
          "metadata": {},
          "output_type": "display_data"
        }
      ],
      "source": [
        "df['age_group'] = pd.qcut(df['age_years'], q=4, labels=['Muda', 'Dewasa Awal', 'Dewasa Akhir', 'Lansia'])\n",
        "\n",
        "plt.figure(figsize=(10,6))\n",
        "sns.barplot(data=df, x='age_group', y='cardio', hue='smoke', palette='Set1')\n",
        "plt.title(\"Risiko Penyakit Berdasarkan Kelompok Usia dan Kebiasaan Merokok\")\n",
        "plt.xlabel(\"Kelompok Usia\")\n",
        "plt.ylabel(\"Proporsi Penyakit Kardiovaskular\")\n",
        "plt.legend(title='Merokok (0=Tidak, 1=Ya)')\n",
        "plt.grid(axis='y', linestyle='--', alpha=0.7)\n",
        "plt.tight_layout()\n",
        "plt.show()\n"
      ]
    },
    {
      "cell_type": "markdown",
      "id": "E9f0jyb1UooJ",
      "metadata": {
        "id": "E9f0jyb1UooJ"
      },
      "source": [
        "Risiko penyakit kardiovaskular meningkat seiring bertambahnya usia, di mana kelompok lansia memiliki proporsi penyakit tertinggi. Lebih lanjut, pada hampir setiap kelompok usia, pasien yang merokok memiliki risiko penyakit kardiovaskular yang lebih tinggi dibandingkan non-perokok, menegaskan bahwa merokok memperburuk risiko penyakit jantung, terutama terlihat dampaknya pada usia yang lebih lanjut."
      ]
    },
    {
      "cell_type": "markdown",
      "id": "ySmuiqWwyOQX",
      "metadata": {
        "id": "ySmuiqWwyOQX"
      },
      "source": [
        "## **Data Preparation** <br>"
      ]
    },
    {
      "cell_type": "markdown",
      "id": "oWNltUWv2ftf",
      "metadata": {
        "id": "oWNltUWv2ftf"
      },
      "source": [
        "**Menghapus kolom yang tidak dipakai**"
      ]
    },
    {
      "cell_type": "markdown",
      "id": "z-C9w9Mw8a7N",
      "metadata": {
        "id": "z-C9w9Mw8a7N"
      },
      "source": [
        "Variabel-variabel dari dataset asli kecuali `id` tidak ada yang dihapus karena berdasarkan Eksplorasi, semua variabel berkontribusi terhadap risiko penyakit kardiovaskular."
      ]
    },
    {
      "cell_type": "code",
      "execution_count": 22,
      "id": "Jeg9vOVl2VKL",
      "metadata": {
        "id": "Jeg9vOVl2VKL"
      },
      "outputs": [],
      "source": [
        "# Drop unused column\n",
        "data = df.drop(columns=['id', 'age_years', 'gluc_level', 'BMI', 'BMI_Category', 'age_group'])"
      ]
    },
    {
      "cell_type": "code",
      "execution_count": 23,
      "id": "MUfx-KSv4tJC",
      "metadata": {
        "colab": {
          "base_uri": "https://localhost:8080/",
          "height": 424
        },
        "id": "MUfx-KSv4tJC",
        "outputId": "a04a57b8-bcd6-4e0c-d97c-18dbe68751db"
      },
      "outputs": [
        {
          "data": {
            "text/html": [
              "<div>\n",
              "<style scoped>\n",
              "    .dataframe tbody tr th:only-of-type {\n",
              "        vertical-align: middle;\n",
              "    }\n",
              "\n",
              "    .dataframe tbody tr th {\n",
              "        vertical-align: top;\n",
              "    }\n",
              "\n",
              "    .dataframe thead th {\n",
              "        text-align: right;\n",
              "    }\n",
              "</style>\n",
              "<table border=\"1\" class=\"dataframe\">\n",
              "  <thead>\n",
              "    <tr style=\"text-align: right;\">\n",
              "      <th></th>\n",
              "      <th>age</th>\n",
              "      <th>gender</th>\n",
              "      <th>height</th>\n",
              "      <th>weight</th>\n",
              "      <th>ap_hi</th>\n",
              "      <th>ap_lo</th>\n",
              "      <th>cholesterol</th>\n",
              "      <th>gluc</th>\n",
              "      <th>smoke</th>\n",
              "      <th>alco</th>\n",
              "      <th>active</th>\n",
              "      <th>cardio</th>\n",
              "    </tr>\n",
              "  </thead>\n",
              "  <tbody>\n",
              "    <tr>\n",
              "      <th>46730</th>\n",
              "      <td>21770</td>\n",
              "      <td>1</td>\n",
              "      <td>156</td>\n",
              "      <td>64.0</td>\n",
              "      <td>140</td>\n",
              "      <td>80</td>\n",
              "      <td>2</td>\n",
              "      <td>1</td>\n",
              "      <td>0</td>\n",
              "      <td>0</td>\n",
              "      <td>1</td>\n",
              "      <td>1</td>\n",
              "    </tr>\n",
              "    <tr>\n",
              "      <th>48393</th>\n",
              "      <td>21876</td>\n",
              "      <td>1</td>\n",
              "      <td>170</td>\n",
              "      <td>85.0</td>\n",
              "      <td>160</td>\n",
              "      <td>90</td>\n",
              "      <td>1</td>\n",
              "      <td>1</td>\n",
              "      <td>0</td>\n",
              "      <td>0</td>\n",
              "      <td>1</td>\n",
              "      <td>1</td>\n",
              "    </tr>\n",
              "    <tr>\n",
              "      <th>41416</th>\n",
              "      <td>23270</td>\n",
              "      <td>1</td>\n",
              "      <td>151</td>\n",
              "      <td>90.0</td>\n",
              "      <td>130</td>\n",
              "      <td>80</td>\n",
              "      <td>1</td>\n",
              "      <td>1</td>\n",
              "      <td>0</td>\n",
              "      <td>0</td>\n",
              "      <td>1</td>\n",
              "      <td>1</td>\n",
              "    </tr>\n",
              "    <tr>\n",
              "      <th>34506</th>\n",
              "      <td>19741</td>\n",
              "      <td>1</td>\n",
              "      <td>159</td>\n",
              "      <td>97.0</td>\n",
              "      <td>120</td>\n",
              "      <td>80</td>\n",
              "      <td>1</td>\n",
              "      <td>1</td>\n",
              "      <td>0</td>\n",
              "      <td>0</td>\n",
              "      <td>1</td>\n",
              "      <td>1</td>\n",
              "    </tr>\n",
              "    <tr>\n",
              "      <th>43725</th>\n",
              "      <td>18395</td>\n",
              "      <td>1</td>\n",
              "      <td>164</td>\n",
              "      <td>68.0</td>\n",
              "      <td>120</td>\n",
              "      <td>80</td>\n",
              "      <td>1</td>\n",
              "      <td>1</td>\n",
              "      <td>0</td>\n",
              "      <td>0</td>\n",
              "      <td>1</td>\n",
              "      <td>0</td>\n",
              "    </tr>\n",
              "    <tr>\n",
              "      <th>...</th>\n",
              "      <td>...</td>\n",
              "      <td>...</td>\n",
              "      <td>...</td>\n",
              "      <td>...</td>\n",
              "      <td>...</td>\n",
              "      <td>...</td>\n",
              "      <td>...</td>\n",
              "      <td>...</td>\n",
              "      <td>...</td>\n",
              "      <td>...</td>\n",
              "      <td>...</td>\n",
              "      <td>...</td>\n",
              "    </tr>\n",
              "    <tr>\n",
              "      <th>20679</th>\n",
              "      <td>19523</td>\n",
              "      <td>1</td>\n",
              "      <td>157</td>\n",
              "      <td>61.0</td>\n",
              "      <td>120</td>\n",
              "      <td>80</td>\n",
              "      <td>1</td>\n",
              "      <td>1</td>\n",
              "      <td>0</td>\n",
              "      <td>0</td>\n",
              "      <td>1</td>\n",
              "      <td>0</td>\n",
              "    </tr>\n",
              "    <tr>\n",
              "      <th>48140</th>\n",
              "      <td>18397</td>\n",
              "      <td>1</td>\n",
              "      <td>157</td>\n",
              "      <td>79.0</td>\n",
              "      <td>145</td>\n",
              "      <td>90</td>\n",
              "      <td>2</td>\n",
              "      <td>1</td>\n",
              "      <td>0</td>\n",
              "      <td>0</td>\n",
              "      <td>1</td>\n",
              "      <td>1</td>\n",
              "    </tr>\n",
              "    <tr>\n",
              "      <th>59195</th>\n",
              "      <td>15213</td>\n",
              "      <td>1</td>\n",
              "      <td>156</td>\n",
              "      <td>70.0</td>\n",
              "      <td>100</td>\n",
              "      <td>70</td>\n",
              "      <td>1</td>\n",
              "      <td>1</td>\n",
              "      <td>0</td>\n",
              "      <td>0</td>\n",
              "      <td>1</td>\n",
              "      <td>0</td>\n",
              "    </tr>\n",
              "    <tr>\n",
              "      <th>12633</th>\n",
              "      <td>20504</td>\n",
              "      <td>1</td>\n",
              "      <td>158</td>\n",
              "      <td>57.0</td>\n",
              "      <td>120</td>\n",
              "      <td>70</td>\n",
              "      <td>1</td>\n",
              "      <td>1</td>\n",
              "      <td>0</td>\n",
              "      <td>0</td>\n",
              "      <td>1</td>\n",
              "      <td>0</td>\n",
              "    </tr>\n",
              "    <tr>\n",
              "      <th>39641</th>\n",
              "      <td>19585</td>\n",
              "      <td>1</td>\n",
              "      <td>174</td>\n",
              "      <td>69.0</td>\n",
              "      <td>140</td>\n",
              "      <td>90</td>\n",
              "      <td>3</td>\n",
              "      <td>3</td>\n",
              "      <td>0</td>\n",
              "      <td>0</td>\n",
              "      <td>1</td>\n",
              "      <td>1</td>\n",
              "    </tr>\n",
              "  </tbody>\n",
              "</table>\n",
              "<p>10000 rows × 12 columns</p>\n",
              "</div>"
            ],
            "text/plain": [
              "         age  gender  height  weight  ap_hi  ap_lo  cholesterol  gluc  smoke  \\\n",
              "46730  21770       1     156    64.0    140     80            2     1      0   \n",
              "48393  21876       1     170    85.0    160     90            1     1      0   \n",
              "41416  23270       1     151    90.0    130     80            1     1      0   \n",
              "34506  19741       1     159    97.0    120     80            1     1      0   \n",
              "43725  18395       1     164    68.0    120     80            1     1      0   \n",
              "...      ...     ...     ...     ...    ...    ...          ...   ...    ...   \n",
              "20679  19523       1     157    61.0    120     80            1     1      0   \n",
              "48140  18397       1     157    79.0    145     90            2     1      0   \n",
              "59195  15213       1     156    70.0    100     70            1     1      0   \n",
              "12633  20504       1     158    57.0    120     70            1     1      0   \n",
              "39641  19585       1     174    69.0    140     90            3     3      0   \n",
              "\n",
              "       alco  active  cardio  \n",
              "46730     0       1       1  \n",
              "48393     0       1       1  \n",
              "41416     0       1       1  \n",
              "34506     0       1       1  \n",
              "43725     0       1       0  \n",
              "...     ...     ...     ...  \n",
              "20679     0       1       0  \n",
              "48140     0       1       1  \n",
              "59195     0       1       0  \n",
              "12633     0       1       0  \n",
              "39641     0       1       1  \n",
              "\n",
              "[10000 rows x 12 columns]"
            ]
          },
          "execution_count": 23,
          "metadata": {},
          "output_type": "execute_result"
        }
      ],
      "source": [
        "data"
      ]
    },
    {
      "cell_type": "markdown",
      "id": "Iju1Bj5u3QQw",
      "metadata": {
        "id": "Iju1Bj5u3QQw"
      },
      "source": [
        "**Menentukan kelompok fitur**"
      ]
    },
    {
      "cell_type": "code",
      "execution_count": 24,
      "id": "pAwcGoZg0b7_",
      "metadata": {
        "id": "pAwcGoZg0b7_"
      },
      "outputs": [],
      "source": [
        "numeric_features = ['age', 'height', 'weight', 'ap_hi', 'ap_lo']\n",
        "categorical_features = ['gender', 'cholesterol', 'gluc', 'smoke', 'alco', 'active']"
      ]
    },
    {
      "cell_type": "code",
      "execution_count": 25,
      "id": "jIvmpyhZ3g8L",
      "metadata": {
        "id": "jIvmpyhZ3g8L"
      },
      "outputs": [],
      "source": [
        "target = 'cardio'"
      ]
    },
    {
      "cell_type": "markdown",
      "id": "oCgrkF4t3kZd",
      "metadata": {
        "id": "oCgrkF4t3kZd"
      },
      "source": [
        "**Standardisasi fitur numerik**"
      ]
    },
    {
      "cell_type": "code",
      "execution_count": 26,
      "id": "g_K51XiT0XHh",
      "metadata": {
        "id": "g_K51XiT0XHh"
      },
      "outputs": [],
      "source": [
        "scaler = StandardScaler()\n",
        "X_numeric_scaled = scaler.fit_transform(df[numeric_features])"
      ]
    },
    {
      "cell_type": "markdown",
      "id": "0ycqL3aT4_yI",
      "metadata": {
        "id": "0ycqL3aT4_yI"
      },
      "source": [
        "**Menggabungkan semua fitur**"
      ]
    },
    {
      "cell_type": "code",
      "execution_count": 27,
      "id": "-7bw7vtE0i70",
      "metadata": {
        "id": "-7bw7vtE0i70"
      },
      "outputs": [],
      "source": [
        "# Ambil fitur kategorikal tanpa diubah\n",
        "X_categorical = data[categorical_features].values\n",
        "\n",
        "# Gabungkan hasil scaling dan kategorikal\n",
        "X = np.concatenate([X_numeric_scaled, X_categorical], axis=1)\n",
        "\n",
        "y = data[target].values"
      ]
    },
    {
      "cell_type": "code",
      "execution_count": 28,
      "id": "d1f7df96",
      "metadata": {},
      "outputs": [],
      "source": [
        "feature_names = numeric_features + categorical_features"
      ]
    },
    {
      "cell_type": "markdown",
      "id": "YZxiBggL5ZY0",
      "metadata": {
        "id": "YZxiBggL5ZY0"
      },
      "source": [
        "**Split data**"
      ]
    },
    {
      "cell_type": "code",
      "execution_count": 29,
      "id": "aH2YQTk75bw9",
      "metadata": {
        "id": "aH2YQTk75bw9"
      },
      "outputs": [],
      "source": [
        "# Membagi data menjadi data latih dan data uji (80:20)\n",
        "X_train, X_test, y_train, y_test = train_test_split(X, y, test_size=0.2, random_state=42)"
      ]
    },
    {
      "cell_type": "markdown",
      "id": "wPg0KGB5ySet",
      "metadata": {
        "id": "wPg0KGB5ySet"
      },
      "source": [
        "## **Modeling** <br>"
      ]
    },
    {
      "cell_type": "markdown",
      "id": "a85f666c",
      "metadata": {},
      "source": [
        "### Model Multi-Layer Perception(MLP)"
      ]
    },
    {
      "cell_type": "code",
      "execution_count": 30,
      "id": "f7fbec6e",
      "metadata": {},
      "outputs": [],
      "source": [
        "# Membuat custom Keras model wrapper\n",
        "class KerasClassifierWrapper(BaseEstimator, ClassifierMixin):\n",
        "    def __init__(self, optimizer='adam', units=64, batch_size=32, epochs=10):\n",
        "        self.optimizer = optimizer\n",
        "        self.units = units\n",
        "        self.batch_size = batch_size\n",
        "        self.epochs = epochs\n",
        "\n",
        "    def build_model(self):\n",
        "        model = Sequential()\n",
        "        model.add(Dense(self.units, input_dim=X_train.shape[1], activation='relu'))\n",
        "        model.add(Dense(32, activation='relu'))\n",
        "        model.add(Dense(1, activation='sigmoid'))  # untuk klasifikasi biner\n",
        "        model.compile(loss='binary_crossentropy', optimizer=self.optimizer, metrics=['accuracy'])\n",
        "        return model\n",
        "\n",
        "    def fit(self, X, y):\n",
        "        self.model = self.build_model()\n",
        "        self.model.fit(X, y, epochs=self.epochs, batch_size=self.batch_size, verbose=0)\n",
        "        return self\n",
        "\n",
        "    def predict(self, X):\n",
        "        return (self.model.predict(X) > 0.5).astype(\"int32\")\n",
        "\n",
        "\n",
        "# Membuat model wrapper\n",
        "model = KerasClassifierWrapper()\n",
        "\n",
        "# Menentukan parameter grid untuk pencarian\n",
        "param_grid = {\n",
        "    'optimizer': ['adam', 'rmsprop'],\n",
        "    'units': [32, 64, 128],\n",
        "    'batch_size': [16, 32],\n",
        "    'epochs': [10, 50]\n",
        "}"
      ]
    },
    {
      "cell_type": "markdown",
      "id": "d2fc6af9",
      "metadata": {},
      "source": [
        "**Grid Search CV untuk Hyperparameter Optimization**"
      ]
    },
    {
      "cell_type": "code",
      "execution_count": 31,
      "id": "fbeefebe",
      "metadata": {},
      "outputs": [
        {
          "name": "stderr",
          "output_type": "stream",
          "text": [
            "/Users/macbook/Library/Python/3.9/lib/python/site-packages/keras/src/layers/core/dense.py:87: UserWarning: Do not pass an `input_shape`/`input_dim` argument to a layer. When using Sequential models, prefer using an `Input(shape)` object as the first layer in the model instead.\n",
            "  super().__init__(activity_regularizer=activity_regularizer, **kwargs)\n"
          ]
        },
        {
          "name": "stdout",
          "output_type": "stream",
          "text": [
            "\u001b[1m84/84\u001b[0m \u001b[32m━━━━━━━━━━━━━━━━━━━━\u001b[0m\u001b[37m\u001b[0m \u001b[1m0s\u001b[0m 379us/step\n"
          ]
        },
        {
          "name": "stderr",
          "output_type": "stream",
          "text": [
            "/Users/macbook/Library/Python/3.9/lib/python/site-packages/keras/src/layers/core/dense.py:87: UserWarning: Do not pass an `input_shape`/`input_dim` argument to a layer. When using Sequential models, prefer using an `Input(shape)` object as the first layer in the model instead.\n",
            "  super().__init__(activity_regularizer=activity_regularizer, **kwargs)\n"
          ]
        },
        {
          "name": "stdout",
          "output_type": "stream",
          "text": [
            "\u001b[1m84/84\u001b[0m \u001b[32m━━━━━━━━━━━━━━━━━━━━\u001b[0m\u001b[37m\u001b[0m \u001b[1m0s\u001b[0m 386us/step\n"
          ]
        },
        {
          "name": "stderr",
          "output_type": "stream",
          "text": [
            "/Users/macbook/Library/Python/3.9/lib/python/site-packages/keras/src/layers/core/dense.py:87: UserWarning: Do not pass an `input_shape`/`input_dim` argument to a layer. When using Sequential models, prefer using an `Input(shape)` object as the first layer in the model instead.\n",
            "  super().__init__(activity_regularizer=activity_regularizer, **kwargs)\n"
          ]
        },
        {
          "name": "stdout",
          "output_type": "stream",
          "text": [
            "\u001b[1m84/84\u001b[0m \u001b[32m━━━━━━━━━━━━━━━━━━━━\u001b[0m\u001b[37m\u001b[0m \u001b[1m0s\u001b[0m 386us/step\n"
          ]
        },
        {
          "name": "stderr",
          "output_type": "stream",
          "text": [
            "/Users/macbook/Library/Python/3.9/lib/python/site-packages/keras/src/layers/core/dense.py:87: UserWarning: Do not pass an `input_shape`/`input_dim` argument to a layer. When using Sequential models, prefer using an `Input(shape)` object as the first layer in the model instead.\n",
            "  super().__init__(activity_regularizer=activity_regularizer, **kwargs)\n"
          ]
        },
        {
          "name": "stdout",
          "output_type": "stream",
          "text": [
            "\u001b[1m84/84\u001b[0m \u001b[32m━━━━━━━━━━━━━━━━━━━━\u001b[0m\u001b[37m\u001b[0m \u001b[1m0s\u001b[0m 426us/step\n"
          ]
        },
        {
          "name": "stderr",
          "output_type": "stream",
          "text": [
            "/Users/macbook/Library/Python/3.9/lib/python/site-packages/keras/src/layers/core/dense.py:87: UserWarning: Do not pass an `input_shape`/`input_dim` argument to a layer. When using Sequential models, prefer using an `Input(shape)` object as the first layer in the model instead.\n",
            "  super().__init__(activity_regularizer=activity_regularizer, **kwargs)\n"
          ]
        },
        {
          "name": "stdout",
          "output_type": "stream",
          "text": [
            "\u001b[1m84/84\u001b[0m \u001b[32m━━━━━━━━━━━━━━━━━━━━\u001b[0m\u001b[37m\u001b[0m \u001b[1m0s\u001b[0m 383us/step\n"
          ]
        },
        {
          "name": "stderr",
          "output_type": "stream",
          "text": [
            "/Users/macbook/Library/Python/3.9/lib/python/site-packages/keras/src/layers/core/dense.py:87: UserWarning: Do not pass an `input_shape`/`input_dim` argument to a layer. When using Sequential models, prefer using an `Input(shape)` object as the first layer in the model instead.\n",
            "  super().__init__(activity_regularizer=activity_regularizer, **kwargs)\n"
          ]
        },
        {
          "name": "stdout",
          "output_type": "stream",
          "text": [
            "\u001b[1m84/84\u001b[0m \u001b[32m━━━━━━━━━━━━━━━━━━━━\u001b[0m\u001b[37m\u001b[0m \u001b[1m0s\u001b[0m 424us/step\n"
          ]
        },
        {
          "name": "stderr",
          "output_type": "stream",
          "text": [
            "/Users/macbook/Library/Python/3.9/lib/python/site-packages/keras/src/layers/core/dense.py:87: UserWarning: Do not pass an `input_shape`/`input_dim` argument to a layer. When using Sequential models, prefer using an `Input(shape)` object as the first layer in the model instead.\n",
            "  super().__init__(activity_regularizer=activity_regularizer, **kwargs)\n"
          ]
        },
        {
          "name": "stdout",
          "output_type": "stream",
          "text": [
            "\u001b[1m84/84\u001b[0m \u001b[32m━━━━━━━━━━━━━━━━━━━━\u001b[0m\u001b[37m\u001b[0m \u001b[1m0s\u001b[0m 410us/step\n"
          ]
        },
        {
          "name": "stderr",
          "output_type": "stream",
          "text": [
            "/Users/macbook/Library/Python/3.9/lib/python/site-packages/keras/src/layers/core/dense.py:87: UserWarning: Do not pass an `input_shape`/`input_dim` argument to a layer. When using Sequential models, prefer using an `Input(shape)` object as the first layer in the model instead.\n",
            "  super().__init__(activity_regularizer=activity_regularizer, **kwargs)\n"
          ]
        },
        {
          "name": "stdout",
          "output_type": "stream",
          "text": [
            "\u001b[1m84/84\u001b[0m \u001b[32m━━━━━━━━━━━━━━━━━━━━\u001b[0m\u001b[37m\u001b[0m \u001b[1m0s\u001b[0m 412us/step\n"
          ]
        },
        {
          "name": "stderr",
          "output_type": "stream",
          "text": [
            "/Users/macbook/Library/Python/3.9/lib/python/site-packages/keras/src/layers/core/dense.py:87: UserWarning: Do not pass an `input_shape`/`input_dim` argument to a layer. When using Sequential models, prefer using an `Input(shape)` object as the first layer in the model instead.\n",
            "  super().__init__(activity_regularizer=activity_regularizer, **kwargs)\n"
          ]
        },
        {
          "name": "stdout",
          "output_type": "stream",
          "text": [
            "\u001b[1m84/84\u001b[0m \u001b[32m━━━━━━━━━━━━━━━━━━━━\u001b[0m\u001b[37m\u001b[0m \u001b[1m0s\u001b[0m 406us/step\n"
          ]
        },
        {
          "name": "stderr",
          "output_type": "stream",
          "text": [
            "/Users/macbook/Library/Python/3.9/lib/python/site-packages/keras/src/layers/core/dense.py:87: UserWarning: Do not pass an `input_shape`/`input_dim` argument to a layer. When using Sequential models, prefer using an `Input(shape)` object as the first layer in the model instead.\n",
            "  super().__init__(activity_regularizer=activity_regularizer, **kwargs)\n"
          ]
        },
        {
          "name": "stdout",
          "output_type": "stream",
          "text": [
            "\u001b[1m84/84\u001b[0m \u001b[32m━━━━━━━━━━━━━━━━━━━━\u001b[0m\u001b[37m\u001b[0m \u001b[1m0s\u001b[0m 411us/step\n"
          ]
        },
        {
          "name": "stderr",
          "output_type": "stream",
          "text": [
            "/Users/macbook/Library/Python/3.9/lib/python/site-packages/keras/src/layers/core/dense.py:87: UserWarning: Do not pass an `input_shape`/`input_dim` argument to a layer. When using Sequential models, prefer using an `Input(shape)` object as the first layer in the model instead.\n",
            "  super().__init__(activity_regularizer=activity_regularizer, **kwargs)\n"
          ]
        },
        {
          "name": "stdout",
          "output_type": "stream",
          "text": [
            "\u001b[1m84/84\u001b[0m \u001b[32m━━━━━━━━━━━━━━━━━━━━\u001b[0m\u001b[37m\u001b[0m \u001b[1m0s\u001b[0m 422us/step\n"
          ]
        },
        {
          "name": "stderr",
          "output_type": "stream",
          "text": [
            "/Users/macbook/Library/Python/3.9/lib/python/site-packages/keras/src/layers/core/dense.py:87: UserWarning: Do not pass an `input_shape`/`input_dim` argument to a layer. When using Sequential models, prefer using an `Input(shape)` object as the first layer in the model instead.\n",
            "  super().__init__(activity_regularizer=activity_regularizer, **kwargs)\n"
          ]
        },
        {
          "name": "stdout",
          "output_type": "stream",
          "text": [
            "\u001b[1m84/84\u001b[0m \u001b[32m━━━━━━━━━━━━━━━━━━━━\u001b[0m\u001b[37m\u001b[0m \u001b[1m0s\u001b[0m 409us/step\n"
          ]
        },
        {
          "name": "stderr",
          "output_type": "stream",
          "text": [
            "/Users/macbook/Library/Python/3.9/lib/python/site-packages/keras/src/layers/core/dense.py:87: UserWarning: Do not pass an `input_shape`/`input_dim` argument to a layer. When using Sequential models, prefer using an `Input(shape)` object as the first layer in the model instead.\n",
            "  super().__init__(activity_regularizer=activity_regularizer, **kwargs)\n"
          ]
        },
        {
          "name": "stdout",
          "output_type": "stream",
          "text": [
            "\u001b[1m84/84\u001b[0m \u001b[32m━━━━━━━━━━━━━━━━━━━━\u001b[0m\u001b[37m\u001b[0m \u001b[1m0s\u001b[0m 493us/step\n"
          ]
        },
        {
          "name": "stderr",
          "output_type": "stream",
          "text": [
            "/Users/macbook/Library/Python/3.9/lib/python/site-packages/keras/src/layers/core/dense.py:87: UserWarning: Do not pass an `input_shape`/`input_dim` argument to a layer. When using Sequential models, prefer using an `Input(shape)` object as the first layer in the model instead.\n",
            "  super().__init__(activity_regularizer=activity_regularizer, **kwargs)\n"
          ]
        },
        {
          "name": "stdout",
          "output_type": "stream",
          "text": [
            "\u001b[1m84/84\u001b[0m \u001b[32m━━━━━━━━━━━━━━━━━━━━\u001b[0m\u001b[37m\u001b[0m \u001b[1m0s\u001b[0m 438us/step\n"
          ]
        },
        {
          "name": "stderr",
          "output_type": "stream",
          "text": [
            "/Users/macbook/Library/Python/3.9/lib/python/site-packages/keras/src/layers/core/dense.py:87: UserWarning: Do not pass an `input_shape`/`input_dim` argument to a layer. When using Sequential models, prefer using an `Input(shape)` object as the first layer in the model instead.\n",
            "  super().__init__(activity_regularizer=activity_regularizer, **kwargs)\n"
          ]
        },
        {
          "name": "stdout",
          "output_type": "stream",
          "text": [
            "\u001b[1m84/84\u001b[0m \u001b[32m━━━━━━━━━━━━━━━━━━━━\u001b[0m\u001b[37m\u001b[0m \u001b[1m0s\u001b[0m 465us/step\n"
          ]
        },
        {
          "name": "stderr",
          "output_type": "stream",
          "text": [
            "/Users/macbook/Library/Python/3.9/lib/python/site-packages/keras/src/layers/core/dense.py:87: UserWarning: Do not pass an `input_shape`/`input_dim` argument to a layer. When using Sequential models, prefer using an `Input(shape)` object as the first layer in the model instead.\n",
            "  super().__init__(activity_regularizer=activity_regularizer, **kwargs)\n"
          ]
        },
        {
          "name": "stdout",
          "output_type": "stream",
          "text": [
            "\u001b[1m84/84\u001b[0m \u001b[32m━━━━━━━━━━━━━━━━━━━━\u001b[0m\u001b[37m\u001b[0m \u001b[1m0s\u001b[0m 495us/step\n"
          ]
        },
        {
          "name": "stderr",
          "output_type": "stream",
          "text": [
            "/Users/macbook/Library/Python/3.9/lib/python/site-packages/keras/src/layers/core/dense.py:87: UserWarning: Do not pass an `input_shape`/`input_dim` argument to a layer. When using Sequential models, prefer using an `Input(shape)` object as the first layer in the model instead.\n",
            "  super().__init__(activity_regularizer=activity_regularizer, **kwargs)\n"
          ]
        },
        {
          "name": "stdout",
          "output_type": "stream",
          "text": [
            "\u001b[1m84/84\u001b[0m \u001b[32m━━━━━━━━━━━━━━━━━━━━\u001b[0m\u001b[37m\u001b[0m \u001b[1m0s\u001b[0m 427us/step\n"
          ]
        },
        {
          "name": "stderr",
          "output_type": "stream",
          "text": [
            "/Users/macbook/Library/Python/3.9/lib/python/site-packages/keras/src/layers/core/dense.py:87: UserWarning: Do not pass an `input_shape`/`input_dim` argument to a layer. When using Sequential models, prefer using an `Input(shape)` object as the first layer in the model instead.\n",
            "  super().__init__(activity_regularizer=activity_regularizer, **kwargs)\n"
          ]
        },
        {
          "name": "stdout",
          "output_type": "stream",
          "text": [
            "\u001b[1m84/84\u001b[0m \u001b[32m━━━━━━━━━━━━━━━━━━━━\u001b[0m\u001b[37m\u001b[0m \u001b[1m0s\u001b[0m 698us/step\n"
          ]
        },
        {
          "name": "stderr",
          "output_type": "stream",
          "text": [
            "/Users/macbook/Library/Python/3.9/lib/python/site-packages/keras/src/layers/core/dense.py:87: UserWarning: Do not pass an `input_shape`/`input_dim` argument to a layer. When using Sequential models, prefer using an `Input(shape)` object as the first layer in the model instead.\n",
            "  super().__init__(activity_regularizer=activity_regularizer, **kwargs)\n"
          ]
        },
        {
          "name": "stdout",
          "output_type": "stream",
          "text": [
            "\u001b[1m84/84\u001b[0m \u001b[32m━━━━━━━━━━━━━━━━━━━━\u001b[0m\u001b[37m\u001b[0m \u001b[1m0s\u001b[0m 461us/step\n"
          ]
        },
        {
          "name": "stderr",
          "output_type": "stream",
          "text": [
            "/Users/macbook/Library/Python/3.9/lib/python/site-packages/keras/src/layers/core/dense.py:87: UserWarning: Do not pass an `input_shape`/`input_dim` argument to a layer. When using Sequential models, prefer using an `Input(shape)` object as the first layer in the model instead.\n",
            "  super().__init__(activity_regularizer=activity_regularizer, **kwargs)\n"
          ]
        },
        {
          "name": "stdout",
          "output_type": "stream",
          "text": [
            "\u001b[1m84/84\u001b[0m \u001b[32m━━━━━━━━━━━━━━━━━━━━\u001b[0m\u001b[37m\u001b[0m \u001b[1m0s\u001b[0m 401us/step\n"
          ]
        },
        {
          "name": "stderr",
          "output_type": "stream",
          "text": [
            "/Users/macbook/Library/Python/3.9/lib/python/site-packages/keras/src/layers/core/dense.py:87: UserWarning: Do not pass an `input_shape`/`input_dim` argument to a layer. When using Sequential models, prefer using an `Input(shape)` object as the first layer in the model instead.\n",
            "  super().__init__(activity_regularizer=activity_regularizer, **kwargs)\n"
          ]
        },
        {
          "name": "stdout",
          "output_type": "stream",
          "text": [
            "\u001b[1m84/84\u001b[0m \u001b[32m━━━━━━━━━━━━━━━━━━━━\u001b[0m\u001b[37m\u001b[0m \u001b[1m0s\u001b[0m 514us/step\n"
          ]
        },
        {
          "name": "stderr",
          "output_type": "stream",
          "text": [
            "/Users/macbook/Library/Python/3.9/lib/python/site-packages/keras/src/layers/core/dense.py:87: UserWarning: Do not pass an `input_shape`/`input_dim` argument to a layer. When using Sequential models, prefer using an `Input(shape)` object as the first layer in the model instead.\n",
            "  super().__init__(activity_regularizer=activity_regularizer, **kwargs)\n"
          ]
        },
        {
          "name": "stdout",
          "output_type": "stream",
          "text": [
            "\u001b[1m84/84\u001b[0m \u001b[32m━━━━━━━━━━━━━━━━━━━━\u001b[0m\u001b[37m\u001b[0m \u001b[1m0s\u001b[0m 415us/step\n"
          ]
        },
        {
          "name": "stderr",
          "output_type": "stream",
          "text": [
            "/Users/macbook/Library/Python/3.9/lib/python/site-packages/keras/src/layers/core/dense.py:87: UserWarning: Do not pass an `input_shape`/`input_dim` argument to a layer. When using Sequential models, prefer using an `Input(shape)` object as the first layer in the model instead.\n",
            "  super().__init__(activity_regularizer=activity_regularizer, **kwargs)\n"
          ]
        },
        {
          "name": "stdout",
          "output_type": "stream",
          "text": [
            "\u001b[1m84/84\u001b[0m \u001b[32m━━━━━━━━━━━━━━━━━━━━\u001b[0m\u001b[37m\u001b[0m \u001b[1m0s\u001b[0m 417us/step\n"
          ]
        },
        {
          "name": "stderr",
          "output_type": "stream",
          "text": [
            "/Users/macbook/Library/Python/3.9/lib/python/site-packages/keras/src/layers/core/dense.py:87: UserWarning: Do not pass an `input_shape`/`input_dim` argument to a layer. When using Sequential models, prefer using an `Input(shape)` object as the first layer in the model instead.\n",
            "  super().__init__(activity_regularizer=activity_regularizer, **kwargs)\n"
          ]
        },
        {
          "name": "stdout",
          "output_type": "stream",
          "text": [
            "\u001b[1m84/84\u001b[0m \u001b[32m━━━━━━━━━━━━━━━━━━━━\u001b[0m\u001b[37m\u001b[0m \u001b[1m0s\u001b[0m 417us/step\n"
          ]
        },
        {
          "name": "stderr",
          "output_type": "stream",
          "text": [
            "/Users/macbook/Library/Python/3.9/lib/python/site-packages/keras/src/layers/core/dense.py:87: UserWarning: Do not pass an `input_shape`/`input_dim` argument to a layer. When using Sequential models, prefer using an `Input(shape)` object as the first layer in the model instead.\n",
            "  super().__init__(activity_regularizer=activity_regularizer, **kwargs)\n"
          ]
        },
        {
          "name": "stdout",
          "output_type": "stream",
          "text": [
            "\u001b[1m84/84\u001b[0m \u001b[32m━━━━━━━━━━━━━━━━━━━━\u001b[0m\u001b[37m\u001b[0m \u001b[1m0s\u001b[0m 482us/step\n"
          ]
        },
        {
          "name": "stderr",
          "output_type": "stream",
          "text": [
            "/Users/macbook/Library/Python/3.9/lib/python/site-packages/keras/src/layers/core/dense.py:87: UserWarning: Do not pass an `input_shape`/`input_dim` argument to a layer. When using Sequential models, prefer using an `Input(shape)` object as the first layer in the model instead.\n",
            "  super().__init__(activity_regularizer=activity_regularizer, **kwargs)\n"
          ]
        },
        {
          "name": "stdout",
          "output_type": "stream",
          "text": [
            "\u001b[1m84/84\u001b[0m \u001b[32m━━━━━━━━━━━━━━━━━━━━\u001b[0m\u001b[37m\u001b[0m \u001b[1m0s\u001b[0m 417us/step\n"
          ]
        },
        {
          "name": "stderr",
          "output_type": "stream",
          "text": [
            "/Users/macbook/Library/Python/3.9/lib/python/site-packages/keras/src/layers/core/dense.py:87: UserWarning: Do not pass an `input_shape`/`input_dim` argument to a layer. When using Sequential models, prefer using an `Input(shape)` object as the first layer in the model instead.\n",
            "  super().__init__(activity_regularizer=activity_regularizer, **kwargs)\n"
          ]
        },
        {
          "name": "stdout",
          "output_type": "stream",
          "text": [
            "\u001b[1m84/84\u001b[0m \u001b[32m━━━━━━━━━━━━━━━━━━━━\u001b[0m\u001b[37m\u001b[0m \u001b[1m0s\u001b[0m 406us/step\n"
          ]
        },
        {
          "name": "stderr",
          "output_type": "stream",
          "text": [
            "/Users/macbook/Library/Python/3.9/lib/python/site-packages/keras/src/layers/core/dense.py:87: UserWarning: Do not pass an `input_shape`/`input_dim` argument to a layer. When using Sequential models, prefer using an `Input(shape)` object as the first layer in the model instead.\n",
            "  super().__init__(activity_regularizer=activity_regularizer, **kwargs)\n"
          ]
        },
        {
          "name": "stdout",
          "output_type": "stream",
          "text": [
            "\u001b[1m84/84\u001b[0m \u001b[32m━━━━━━━━━━━━━━━━━━━━\u001b[0m\u001b[37m\u001b[0m \u001b[1m0s\u001b[0m 420us/step\n"
          ]
        },
        {
          "name": "stderr",
          "output_type": "stream",
          "text": [
            "/Users/macbook/Library/Python/3.9/lib/python/site-packages/keras/src/layers/core/dense.py:87: UserWarning: Do not pass an `input_shape`/`input_dim` argument to a layer. When using Sequential models, prefer using an `Input(shape)` object as the first layer in the model instead.\n",
            "  super().__init__(activity_regularizer=activity_regularizer, **kwargs)\n"
          ]
        },
        {
          "name": "stdout",
          "output_type": "stream",
          "text": [
            "\u001b[1m84/84\u001b[0m \u001b[32m━━━━━━━━━━━━━━━━━━━━\u001b[0m\u001b[37m\u001b[0m \u001b[1m0s\u001b[0m 412us/step\n"
          ]
        },
        {
          "name": "stderr",
          "output_type": "stream",
          "text": [
            "/Users/macbook/Library/Python/3.9/lib/python/site-packages/keras/src/layers/core/dense.py:87: UserWarning: Do not pass an `input_shape`/`input_dim` argument to a layer. When using Sequential models, prefer using an `Input(shape)` object as the first layer in the model instead.\n",
            "  super().__init__(activity_regularizer=activity_regularizer, **kwargs)\n"
          ]
        },
        {
          "name": "stdout",
          "output_type": "stream",
          "text": [
            "\u001b[1m84/84\u001b[0m \u001b[32m━━━━━━━━━━━━━━━━━━━━\u001b[0m\u001b[37m\u001b[0m \u001b[1m0s\u001b[0m 480us/step\n"
          ]
        },
        {
          "name": "stderr",
          "output_type": "stream",
          "text": [
            "/Users/macbook/Library/Python/3.9/lib/python/site-packages/keras/src/layers/core/dense.py:87: UserWarning: Do not pass an `input_shape`/`input_dim` argument to a layer. When using Sequential models, prefer using an `Input(shape)` object as the first layer in the model instead.\n",
            "  super().__init__(activity_regularizer=activity_regularizer, **kwargs)\n"
          ]
        },
        {
          "name": "stdout",
          "output_type": "stream",
          "text": [
            "\u001b[1m84/84\u001b[0m \u001b[32m━━━━━━━━━━━━━━━━━━━━\u001b[0m\u001b[37m\u001b[0m \u001b[1m0s\u001b[0m 415us/step\n"
          ]
        },
        {
          "name": "stderr",
          "output_type": "stream",
          "text": [
            "/Users/macbook/Library/Python/3.9/lib/python/site-packages/keras/src/layers/core/dense.py:87: UserWarning: Do not pass an `input_shape`/`input_dim` argument to a layer. When using Sequential models, prefer using an `Input(shape)` object as the first layer in the model instead.\n",
            "  super().__init__(activity_regularizer=activity_regularizer, **kwargs)\n"
          ]
        },
        {
          "name": "stdout",
          "output_type": "stream",
          "text": [
            "\u001b[1m84/84\u001b[0m \u001b[32m━━━━━━━━━━━━━━━━━━━━\u001b[0m\u001b[37m\u001b[0m \u001b[1m0s\u001b[0m 417us/step\n"
          ]
        },
        {
          "name": "stderr",
          "output_type": "stream",
          "text": [
            "/Users/macbook/Library/Python/3.9/lib/python/site-packages/keras/src/layers/core/dense.py:87: UserWarning: Do not pass an `input_shape`/`input_dim` argument to a layer. When using Sequential models, prefer using an `Input(shape)` object as the first layer in the model instead.\n",
            "  super().__init__(activity_regularizer=activity_regularizer, **kwargs)\n"
          ]
        },
        {
          "name": "stdout",
          "output_type": "stream",
          "text": [
            "\u001b[1m84/84\u001b[0m \u001b[32m━━━━━━━━━━━━━━━━━━━━\u001b[0m\u001b[37m\u001b[0m \u001b[1m0s\u001b[0m 415us/step\n"
          ]
        },
        {
          "name": "stderr",
          "output_type": "stream",
          "text": [
            "/Users/macbook/Library/Python/3.9/lib/python/site-packages/keras/src/layers/core/dense.py:87: UserWarning: Do not pass an `input_shape`/`input_dim` argument to a layer. When using Sequential models, prefer using an `Input(shape)` object as the first layer in the model instead.\n",
            "  super().__init__(activity_regularizer=activity_regularizer, **kwargs)\n"
          ]
        },
        {
          "name": "stdout",
          "output_type": "stream",
          "text": [
            "\u001b[1m84/84\u001b[0m \u001b[32m━━━━━━━━━━━━━━━━━━━━\u001b[0m\u001b[37m\u001b[0m \u001b[1m0s\u001b[0m 444us/step\n"
          ]
        },
        {
          "name": "stderr",
          "output_type": "stream",
          "text": [
            "/Users/macbook/Library/Python/3.9/lib/python/site-packages/keras/src/layers/core/dense.py:87: UserWarning: Do not pass an `input_shape`/`input_dim` argument to a layer. When using Sequential models, prefer using an `Input(shape)` object as the first layer in the model instead.\n",
            "  super().__init__(activity_regularizer=activity_regularizer, **kwargs)\n"
          ]
        },
        {
          "name": "stdout",
          "output_type": "stream",
          "text": [
            "\u001b[1m84/84\u001b[0m \u001b[32m━━━━━━━━━━━━━━━━━━━━\u001b[0m\u001b[37m\u001b[0m \u001b[1m0s\u001b[0m 407us/step\n"
          ]
        },
        {
          "name": "stderr",
          "output_type": "stream",
          "text": [
            "/Users/macbook/Library/Python/3.9/lib/python/site-packages/keras/src/layers/core/dense.py:87: UserWarning: Do not pass an `input_shape`/`input_dim` argument to a layer. When using Sequential models, prefer using an `Input(shape)` object as the first layer in the model instead.\n",
            "  super().__init__(activity_regularizer=activity_regularizer, **kwargs)\n"
          ]
        },
        {
          "name": "stdout",
          "output_type": "stream",
          "text": [
            "\u001b[1m84/84\u001b[0m \u001b[32m━━━━━━━━━━━━━━━━━━━━\u001b[0m\u001b[37m\u001b[0m \u001b[1m0s\u001b[0m 433us/step\n"
          ]
        },
        {
          "name": "stderr",
          "output_type": "stream",
          "text": [
            "/Users/macbook/Library/Python/3.9/lib/python/site-packages/keras/src/layers/core/dense.py:87: UserWarning: Do not pass an `input_shape`/`input_dim` argument to a layer. When using Sequential models, prefer using an `Input(shape)` object as the first layer in the model instead.\n",
            "  super().__init__(activity_regularizer=activity_regularizer, **kwargs)\n"
          ]
        },
        {
          "name": "stdout",
          "output_type": "stream",
          "text": [
            "\u001b[1m84/84\u001b[0m \u001b[32m━━━━━━━━━━━━━━━━━━━━\u001b[0m\u001b[37m\u001b[0m \u001b[1m0s\u001b[0m 514us/step\n"
          ]
        },
        {
          "name": "stderr",
          "output_type": "stream",
          "text": [
            "/Users/macbook/Library/Python/3.9/lib/python/site-packages/keras/src/layers/core/dense.py:87: UserWarning: Do not pass an `input_shape`/`input_dim` argument to a layer. When using Sequential models, prefer using an `Input(shape)` object as the first layer in the model instead.\n",
            "  super().__init__(activity_regularizer=activity_regularizer, **kwargs)\n"
          ]
        },
        {
          "name": "stdout",
          "output_type": "stream",
          "text": [
            "\u001b[1m84/84\u001b[0m \u001b[32m━━━━━━━━━━━━━━━━━━━━\u001b[0m\u001b[37m\u001b[0m \u001b[1m0s\u001b[0m 406us/step\n"
          ]
        },
        {
          "name": "stderr",
          "output_type": "stream",
          "text": [
            "/Users/macbook/Library/Python/3.9/lib/python/site-packages/keras/src/layers/core/dense.py:87: UserWarning: Do not pass an `input_shape`/`input_dim` argument to a layer. When using Sequential models, prefer using an `Input(shape)` object as the first layer in the model instead.\n",
            "  super().__init__(activity_regularizer=activity_regularizer, **kwargs)\n"
          ]
        },
        {
          "name": "stdout",
          "output_type": "stream",
          "text": [
            "\u001b[1m84/84\u001b[0m \u001b[32m━━━━━━━━━━━━━━━━━━━━\u001b[0m\u001b[37m\u001b[0m \u001b[1m0s\u001b[0m 410us/step\n"
          ]
        },
        {
          "name": "stderr",
          "output_type": "stream",
          "text": [
            "/Users/macbook/Library/Python/3.9/lib/python/site-packages/keras/src/layers/core/dense.py:87: UserWarning: Do not pass an `input_shape`/`input_dim` argument to a layer. When using Sequential models, prefer using an `Input(shape)` object as the first layer in the model instead.\n",
            "  super().__init__(activity_regularizer=activity_regularizer, **kwargs)\n"
          ]
        },
        {
          "name": "stdout",
          "output_type": "stream",
          "text": [
            "\u001b[1m84/84\u001b[0m \u001b[32m━━━━━━━━━━━━━━━━━━━━\u001b[0m\u001b[37m\u001b[0m \u001b[1m0s\u001b[0m 419us/step\n"
          ]
        },
        {
          "name": "stderr",
          "output_type": "stream",
          "text": [
            "/Users/macbook/Library/Python/3.9/lib/python/site-packages/keras/src/layers/core/dense.py:87: UserWarning: Do not pass an `input_shape`/`input_dim` argument to a layer. When using Sequential models, prefer using an `Input(shape)` object as the first layer in the model instead.\n",
            "  super().__init__(activity_regularizer=activity_regularizer, **kwargs)\n"
          ]
        },
        {
          "name": "stdout",
          "output_type": "stream",
          "text": [
            "\u001b[1m84/84\u001b[0m \u001b[32m━━━━━━━━━━━━━━━━━━━━\u001b[0m\u001b[37m\u001b[0m \u001b[1m0s\u001b[0m 411us/step\n"
          ]
        },
        {
          "name": "stderr",
          "output_type": "stream",
          "text": [
            "/Users/macbook/Library/Python/3.9/lib/python/site-packages/keras/src/layers/core/dense.py:87: UserWarning: Do not pass an `input_shape`/`input_dim` argument to a layer. When using Sequential models, prefer using an `Input(shape)` object as the first layer in the model instead.\n",
            "  super().__init__(activity_regularizer=activity_regularizer, **kwargs)\n"
          ]
        },
        {
          "name": "stdout",
          "output_type": "stream",
          "text": [
            "\u001b[1m84/84\u001b[0m \u001b[32m━━━━━━━━━━━━━━━━━━━━\u001b[0m\u001b[37m\u001b[0m \u001b[1m0s\u001b[0m 412us/step\n"
          ]
        },
        {
          "name": "stderr",
          "output_type": "stream",
          "text": [
            "/Users/macbook/Library/Python/3.9/lib/python/site-packages/keras/src/layers/core/dense.py:87: UserWarning: Do not pass an `input_shape`/`input_dim` argument to a layer. When using Sequential models, prefer using an `Input(shape)` object as the first layer in the model instead.\n",
            "  super().__init__(activity_regularizer=activity_regularizer, **kwargs)\n"
          ]
        },
        {
          "name": "stdout",
          "output_type": "stream",
          "text": [
            "\u001b[1m84/84\u001b[0m \u001b[32m━━━━━━━━━━━━━━━━━━━━\u001b[0m\u001b[37m\u001b[0m \u001b[1m0s\u001b[0m 414us/step\n"
          ]
        },
        {
          "name": "stderr",
          "output_type": "stream",
          "text": [
            "/Users/macbook/Library/Python/3.9/lib/python/site-packages/keras/src/layers/core/dense.py:87: UserWarning: Do not pass an `input_shape`/`input_dim` argument to a layer. When using Sequential models, prefer using an `Input(shape)` object as the first layer in the model instead.\n",
            "  super().__init__(activity_regularizer=activity_regularizer, **kwargs)\n"
          ]
        },
        {
          "name": "stdout",
          "output_type": "stream",
          "text": [
            "\u001b[1m84/84\u001b[0m \u001b[32m━━━━━━━━━━━━━━━━━━━━\u001b[0m\u001b[37m\u001b[0m \u001b[1m0s\u001b[0m 397us/step\n"
          ]
        },
        {
          "name": "stderr",
          "output_type": "stream",
          "text": [
            "/Users/macbook/Library/Python/3.9/lib/python/site-packages/keras/src/layers/core/dense.py:87: UserWarning: Do not pass an `input_shape`/`input_dim` argument to a layer. When using Sequential models, prefer using an `Input(shape)` object as the first layer in the model instead.\n",
            "  super().__init__(activity_regularizer=activity_regularizer, **kwargs)\n"
          ]
        },
        {
          "name": "stdout",
          "output_type": "stream",
          "text": [
            "\u001b[1m84/84\u001b[0m \u001b[32m━━━━━━━━━━━━━━━━━━━━\u001b[0m\u001b[37m\u001b[0m \u001b[1m0s\u001b[0m 403us/step\n"
          ]
        },
        {
          "name": "stderr",
          "output_type": "stream",
          "text": [
            "/Users/macbook/Library/Python/3.9/lib/python/site-packages/keras/src/layers/core/dense.py:87: UserWarning: Do not pass an `input_shape`/`input_dim` argument to a layer. When using Sequential models, prefer using an `Input(shape)` object as the first layer in the model instead.\n",
            "  super().__init__(activity_regularizer=activity_regularizer, **kwargs)\n"
          ]
        },
        {
          "name": "stdout",
          "output_type": "stream",
          "text": [
            "\u001b[1m84/84\u001b[0m \u001b[32m━━━━━━━━━━━━━━━━━━━━\u001b[0m\u001b[37m\u001b[0m \u001b[1m0s\u001b[0m 405us/step\n"
          ]
        },
        {
          "name": "stderr",
          "output_type": "stream",
          "text": [
            "/Users/macbook/Library/Python/3.9/lib/python/site-packages/keras/src/layers/core/dense.py:87: UserWarning: Do not pass an `input_shape`/`input_dim` argument to a layer. When using Sequential models, prefer using an `Input(shape)` object as the first layer in the model instead.\n",
            "  super().__init__(activity_regularizer=activity_regularizer, **kwargs)\n"
          ]
        },
        {
          "name": "stdout",
          "output_type": "stream",
          "text": [
            "\u001b[1m84/84\u001b[0m \u001b[32m━━━━━━━━━━━━━━━━━━━━\u001b[0m\u001b[37m\u001b[0m \u001b[1m0s\u001b[0m 409us/step\n"
          ]
        },
        {
          "name": "stderr",
          "output_type": "stream",
          "text": [
            "/Users/macbook/Library/Python/3.9/lib/python/site-packages/keras/src/layers/core/dense.py:87: UserWarning: Do not pass an `input_shape`/`input_dim` argument to a layer. When using Sequential models, prefer using an `Input(shape)` object as the first layer in the model instead.\n",
            "  super().__init__(activity_regularizer=activity_regularizer, **kwargs)\n"
          ]
        },
        {
          "name": "stdout",
          "output_type": "stream",
          "text": [
            "\u001b[1m84/84\u001b[0m \u001b[32m━━━━━━━━━━━━━━━━━━━━\u001b[0m\u001b[37m\u001b[0m \u001b[1m0s\u001b[0m 412us/step\n"
          ]
        },
        {
          "name": "stderr",
          "output_type": "stream",
          "text": [
            "/Users/macbook/Library/Python/3.9/lib/python/site-packages/keras/src/layers/core/dense.py:87: UserWarning: Do not pass an `input_shape`/`input_dim` argument to a layer. When using Sequential models, prefer using an `Input(shape)` object as the first layer in the model instead.\n",
            "  super().__init__(activity_regularizer=activity_regularizer, **kwargs)\n"
          ]
        },
        {
          "name": "stdout",
          "output_type": "stream",
          "text": [
            "\u001b[1m84/84\u001b[0m \u001b[32m━━━━━━━━━━━━━━━━━━━━\u001b[0m\u001b[37m\u001b[0m \u001b[1m0s\u001b[0m 409us/step\n"
          ]
        },
        {
          "name": "stderr",
          "output_type": "stream",
          "text": [
            "/Users/macbook/Library/Python/3.9/lib/python/site-packages/keras/src/layers/core/dense.py:87: UserWarning: Do not pass an `input_shape`/`input_dim` argument to a layer. When using Sequential models, prefer using an `Input(shape)` object as the first layer in the model instead.\n",
            "  super().__init__(activity_regularizer=activity_regularizer, **kwargs)\n"
          ]
        },
        {
          "name": "stdout",
          "output_type": "stream",
          "text": [
            "\u001b[1m84/84\u001b[0m \u001b[32m━━━━━━━━━━━━━━━━━━━━\u001b[0m\u001b[37m\u001b[0m \u001b[1m0s\u001b[0m 411us/step\n"
          ]
        },
        {
          "name": "stderr",
          "output_type": "stream",
          "text": [
            "/Users/macbook/Library/Python/3.9/lib/python/site-packages/keras/src/layers/core/dense.py:87: UserWarning: Do not pass an `input_shape`/`input_dim` argument to a layer. When using Sequential models, prefer using an `Input(shape)` object as the first layer in the model instead.\n",
            "  super().__init__(activity_regularizer=activity_regularizer, **kwargs)\n"
          ]
        },
        {
          "name": "stdout",
          "output_type": "stream",
          "text": [
            "\u001b[1m84/84\u001b[0m \u001b[32m━━━━━━━━━━━━━━━━━━━━\u001b[0m\u001b[37m\u001b[0m \u001b[1m0s\u001b[0m 406us/step\n"
          ]
        },
        {
          "name": "stderr",
          "output_type": "stream",
          "text": [
            "/Users/macbook/Library/Python/3.9/lib/python/site-packages/keras/src/layers/core/dense.py:87: UserWarning: Do not pass an `input_shape`/`input_dim` argument to a layer. When using Sequential models, prefer using an `Input(shape)` object as the first layer in the model instead.\n",
            "  super().__init__(activity_regularizer=activity_regularizer, **kwargs)\n"
          ]
        },
        {
          "name": "stdout",
          "output_type": "stream",
          "text": [
            "\u001b[1m84/84\u001b[0m \u001b[32m━━━━━━━━━━━━━━━━━━━━\u001b[0m\u001b[37m\u001b[0m \u001b[1m0s\u001b[0m 409us/step\n"
          ]
        },
        {
          "name": "stderr",
          "output_type": "stream",
          "text": [
            "/Users/macbook/Library/Python/3.9/lib/python/site-packages/keras/src/layers/core/dense.py:87: UserWarning: Do not pass an `input_shape`/`input_dim` argument to a layer. When using Sequential models, prefer using an `Input(shape)` object as the first layer in the model instead.\n",
            "  super().__init__(activity_regularizer=activity_regularizer, **kwargs)\n"
          ]
        },
        {
          "name": "stdout",
          "output_type": "stream",
          "text": [
            "\u001b[1m84/84\u001b[0m \u001b[32m━━━━━━━━━━━━━━━━━━━━\u001b[0m\u001b[37m\u001b[0m \u001b[1m0s\u001b[0m 415us/step\n"
          ]
        },
        {
          "name": "stderr",
          "output_type": "stream",
          "text": [
            "/Users/macbook/Library/Python/3.9/lib/python/site-packages/keras/src/layers/core/dense.py:87: UserWarning: Do not pass an `input_shape`/`input_dim` argument to a layer. When using Sequential models, prefer using an `Input(shape)` object as the first layer in the model instead.\n",
            "  super().__init__(activity_regularizer=activity_regularizer, **kwargs)\n"
          ]
        },
        {
          "name": "stdout",
          "output_type": "stream",
          "text": [
            "\u001b[1m84/84\u001b[0m \u001b[32m━━━━━━━━━━━━━━━━━━━━\u001b[0m\u001b[37m\u001b[0m \u001b[1m0s\u001b[0m 403us/step\n"
          ]
        },
        {
          "name": "stderr",
          "output_type": "stream",
          "text": [
            "/Users/macbook/Library/Python/3.9/lib/python/site-packages/keras/src/layers/core/dense.py:87: UserWarning: Do not pass an `input_shape`/`input_dim` argument to a layer. When using Sequential models, prefer using an `Input(shape)` object as the first layer in the model instead.\n",
            "  super().__init__(activity_regularizer=activity_regularizer, **kwargs)\n"
          ]
        },
        {
          "name": "stdout",
          "output_type": "stream",
          "text": [
            "\u001b[1m84/84\u001b[0m \u001b[32m━━━━━━━━━━━━━━━━━━━━\u001b[0m\u001b[37m\u001b[0m \u001b[1m0s\u001b[0m 473us/step\n"
          ]
        },
        {
          "name": "stderr",
          "output_type": "stream",
          "text": [
            "/Users/macbook/Library/Python/3.9/lib/python/site-packages/keras/src/layers/core/dense.py:87: UserWarning: Do not pass an `input_shape`/`input_dim` argument to a layer. When using Sequential models, prefer using an `Input(shape)` object as the first layer in the model instead.\n",
            "  super().__init__(activity_regularizer=activity_regularizer, **kwargs)\n"
          ]
        },
        {
          "name": "stdout",
          "output_type": "stream",
          "text": [
            "\u001b[1m84/84\u001b[0m \u001b[32m━━━━━━━━━━━━━━━━━━━━\u001b[0m\u001b[37m\u001b[0m \u001b[1m0s\u001b[0m 425us/step\n"
          ]
        },
        {
          "name": "stderr",
          "output_type": "stream",
          "text": [
            "/Users/macbook/Library/Python/3.9/lib/python/site-packages/keras/src/layers/core/dense.py:87: UserWarning: Do not pass an `input_shape`/`input_dim` argument to a layer. When using Sequential models, prefer using an `Input(shape)` object as the first layer in the model instead.\n",
            "  super().__init__(activity_regularizer=activity_regularizer, **kwargs)\n"
          ]
        },
        {
          "name": "stdout",
          "output_type": "stream",
          "text": [
            "\u001b[1m84/84\u001b[0m \u001b[32m━━━━━━━━━━━━━━━━━━━━\u001b[0m\u001b[37m\u001b[0m \u001b[1m0s\u001b[0m 421us/step\n"
          ]
        },
        {
          "name": "stderr",
          "output_type": "stream",
          "text": [
            "/Users/macbook/Library/Python/3.9/lib/python/site-packages/keras/src/layers/core/dense.py:87: UserWarning: Do not pass an `input_shape`/`input_dim` argument to a layer. When using Sequential models, prefer using an `Input(shape)` object as the first layer in the model instead.\n",
            "  super().__init__(activity_regularizer=activity_regularizer, **kwargs)\n"
          ]
        },
        {
          "name": "stdout",
          "output_type": "stream",
          "text": [
            "\u001b[1m84/84\u001b[0m \u001b[32m━━━━━━━━━━━━━━━━━━━━\u001b[0m\u001b[37m\u001b[0m \u001b[1m0s\u001b[0m 434us/step\n"
          ]
        },
        {
          "name": "stderr",
          "output_type": "stream",
          "text": [
            "/Users/macbook/Library/Python/3.9/lib/python/site-packages/keras/src/layers/core/dense.py:87: UserWarning: Do not pass an `input_shape`/`input_dim` argument to a layer. When using Sequential models, prefer using an `Input(shape)` object as the first layer in the model instead.\n",
            "  super().__init__(activity_regularizer=activity_regularizer, **kwargs)\n"
          ]
        },
        {
          "name": "stdout",
          "output_type": "stream",
          "text": [
            "\u001b[1m84/84\u001b[0m \u001b[32m━━━━━━━━━━━━━━━━━━━━\u001b[0m\u001b[37m\u001b[0m \u001b[1m0s\u001b[0m 435us/step\n"
          ]
        },
        {
          "name": "stderr",
          "output_type": "stream",
          "text": [
            "/Users/macbook/Library/Python/3.9/lib/python/site-packages/keras/src/layers/core/dense.py:87: UserWarning: Do not pass an `input_shape`/`input_dim` argument to a layer. When using Sequential models, prefer using an `Input(shape)` object as the first layer in the model instead.\n",
            "  super().__init__(activity_regularizer=activity_regularizer, **kwargs)\n"
          ]
        },
        {
          "name": "stdout",
          "output_type": "stream",
          "text": [
            "\u001b[1m84/84\u001b[0m \u001b[32m━━━━━━━━━━━━━━━━━━━━\u001b[0m\u001b[37m\u001b[0m \u001b[1m0s\u001b[0m 763us/step\n"
          ]
        },
        {
          "name": "stderr",
          "output_type": "stream",
          "text": [
            "/Users/macbook/Library/Python/3.9/lib/python/site-packages/keras/src/layers/core/dense.py:87: UserWarning: Do not pass an `input_shape`/`input_dim` argument to a layer. When using Sequential models, prefer using an `Input(shape)` object as the first layer in the model instead.\n",
            "  super().__init__(activity_regularizer=activity_regularizer, **kwargs)\n"
          ]
        },
        {
          "name": "stdout",
          "output_type": "stream",
          "text": [
            "\u001b[1m84/84\u001b[0m \u001b[32m━━━━━━━━━━━━━━━━━━━━\u001b[0m\u001b[37m\u001b[0m \u001b[1m0s\u001b[0m 564us/step\n"
          ]
        },
        {
          "name": "stderr",
          "output_type": "stream",
          "text": [
            "/Users/macbook/Library/Python/3.9/lib/python/site-packages/keras/src/layers/core/dense.py:87: UserWarning: Do not pass an `input_shape`/`input_dim` argument to a layer. When using Sequential models, prefer using an `Input(shape)` object as the first layer in the model instead.\n",
            "  super().__init__(activity_regularizer=activity_regularizer, **kwargs)\n"
          ]
        },
        {
          "name": "stdout",
          "output_type": "stream",
          "text": [
            "\u001b[1m84/84\u001b[0m \u001b[32m━━━━━━━━━━━━━━━━━━━━\u001b[0m\u001b[37m\u001b[0m \u001b[1m0s\u001b[0m 416us/step\n"
          ]
        },
        {
          "name": "stderr",
          "output_type": "stream",
          "text": [
            "/Users/macbook/Library/Python/3.9/lib/python/site-packages/keras/src/layers/core/dense.py:87: UserWarning: Do not pass an `input_shape`/`input_dim` argument to a layer. When using Sequential models, prefer using an `Input(shape)` object as the first layer in the model instead.\n",
            "  super().__init__(activity_regularizer=activity_regularizer, **kwargs)\n"
          ]
        },
        {
          "name": "stdout",
          "output_type": "stream",
          "text": [
            "\u001b[1m84/84\u001b[0m \u001b[32m━━━━━━━━━━━━━━━━━━━━\u001b[0m\u001b[37m\u001b[0m \u001b[1m0s\u001b[0m 413us/step\n"
          ]
        },
        {
          "name": "stderr",
          "output_type": "stream",
          "text": [
            "/Users/macbook/Library/Python/3.9/lib/python/site-packages/keras/src/layers/core/dense.py:87: UserWarning: Do not pass an `input_shape`/`input_dim` argument to a layer. When using Sequential models, prefer using an `Input(shape)` object as the first layer in the model instead.\n",
            "  super().__init__(activity_regularizer=activity_regularizer, **kwargs)\n"
          ]
        },
        {
          "name": "stdout",
          "output_type": "stream",
          "text": [
            "\u001b[1m84/84\u001b[0m \u001b[32m━━━━━━━━━━━━━━━━━━━━\u001b[0m\u001b[37m\u001b[0m \u001b[1m0s\u001b[0m 716us/step\n"
          ]
        },
        {
          "name": "stderr",
          "output_type": "stream",
          "text": [
            "/Users/macbook/Library/Python/3.9/lib/python/site-packages/keras/src/layers/core/dense.py:87: UserWarning: Do not pass an `input_shape`/`input_dim` argument to a layer. When using Sequential models, prefer using an `Input(shape)` object as the first layer in the model instead.\n",
            "  super().__init__(activity_regularizer=activity_regularizer, **kwargs)\n"
          ]
        },
        {
          "name": "stdout",
          "output_type": "stream",
          "text": [
            "\u001b[1m84/84\u001b[0m \u001b[32m━━━━━━━━━━━━━━━━━━━━\u001b[0m\u001b[37m\u001b[0m \u001b[1m0s\u001b[0m 418us/step\n"
          ]
        },
        {
          "name": "stderr",
          "output_type": "stream",
          "text": [
            "/Users/macbook/Library/Python/3.9/lib/python/site-packages/keras/src/layers/core/dense.py:87: UserWarning: Do not pass an `input_shape`/`input_dim` argument to a layer. When using Sequential models, prefer using an `Input(shape)` object as the first layer in the model instead.\n",
            "  super().__init__(activity_regularizer=activity_regularizer, **kwargs)\n"
          ]
        },
        {
          "name": "stdout",
          "output_type": "stream",
          "text": [
            "\u001b[1m84/84\u001b[0m \u001b[32m━━━━━━━━━━━━━━━━━━━━\u001b[0m\u001b[37m\u001b[0m \u001b[1m0s\u001b[0m 407us/step\n"
          ]
        },
        {
          "name": "stderr",
          "output_type": "stream",
          "text": [
            "/Users/macbook/Library/Python/3.9/lib/python/site-packages/keras/src/layers/core/dense.py:87: UserWarning: Do not pass an `input_shape`/`input_dim` argument to a layer. When using Sequential models, prefer using an `Input(shape)` object as the first layer in the model instead.\n",
            "  super().__init__(activity_regularizer=activity_regularizer, **kwargs)\n"
          ]
        },
        {
          "name": "stdout",
          "output_type": "stream",
          "text": [
            "\u001b[1m84/84\u001b[0m \u001b[32m━━━━━━━━━━━━━━━━━━━━\u001b[0m\u001b[37m\u001b[0m \u001b[1m0s\u001b[0m 417us/step\n"
          ]
        },
        {
          "name": "stderr",
          "output_type": "stream",
          "text": [
            "/Users/macbook/Library/Python/3.9/lib/python/site-packages/keras/src/layers/core/dense.py:87: UserWarning: Do not pass an `input_shape`/`input_dim` argument to a layer. When using Sequential models, prefer using an `Input(shape)` object as the first layer in the model instead.\n",
            "  super().__init__(activity_regularizer=activity_regularizer, **kwargs)\n"
          ]
        },
        {
          "name": "stdout",
          "output_type": "stream",
          "text": [
            "\u001b[1m84/84\u001b[0m \u001b[32m━━━━━━━━━━━━━━━━━━━━\u001b[0m\u001b[37m\u001b[0m \u001b[1m0s\u001b[0m 411us/step\n"
          ]
        },
        {
          "name": "stderr",
          "output_type": "stream",
          "text": [
            "/Users/macbook/Library/Python/3.9/lib/python/site-packages/keras/src/layers/core/dense.py:87: UserWarning: Do not pass an `input_shape`/`input_dim` argument to a layer. When using Sequential models, prefer using an `Input(shape)` object as the first layer in the model instead.\n",
            "  super().__init__(activity_regularizer=activity_regularizer, **kwargs)\n"
          ]
        },
        {
          "name": "stdout",
          "output_type": "stream",
          "text": [
            "\u001b[1m84/84\u001b[0m \u001b[32m━━━━━━━━━━━━━━━━━━━━\u001b[0m\u001b[37m\u001b[0m \u001b[1m0s\u001b[0m 417us/step\n"
          ]
        },
        {
          "name": "stderr",
          "output_type": "stream",
          "text": [
            "/Users/macbook/Library/Python/3.9/lib/python/site-packages/keras/src/layers/core/dense.py:87: UserWarning: Do not pass an `input_shape`/`input_dim` argument to a layer. When using Sequential models, prefer using an `Input(shape)` object as the first layer in the model instead.\n",
            "  super().__init__(activity_regularizer=activity_regularizer, **kwargs)\n"
          ]
        },
        {
          "name": "stdout",
          "output_type": "stream",
          "text": [
            "\u001b[1m84/84\u001b[0m \u001b[32m━━━━━━━━━━━━━━━━━━━━\u001b[0m\u001b[37m\u001b[0m \u001b[1m0s\u001b[0m 724us/step\n"
          ]
        },
        {
          "name": "stderr",
          "output_type": "stream",
          "text": [
            "/Users/macbook/Library/Python/3.9/lib/python/site-packages/keras/src/layers/core/dense.py:87: UserWarning: Do not pass an `input_shape`/`input_dim` argument to a layer. When using Sequential models, prefer using an `Input(shape)` object as the first layer in the model instead.\n",
            "  super().__init__(activity_regularizer=activity_regularizer, **kwargs)\n"
          ]
        },
        {
          "name": "stdout",
          "output_type": "stream",
          "text": [
            "\u001b[1m84/84\u001b[0m \u001b[32m━━━━━━━━━━━━━━━━━━━━\u001b[0m\u001b[37m\u001b[0m \u001b[1m0s\u001b[0m 422us/step\n"
          ]
        },
        {
          "name": "stderr",
          "output_type": "stream",
          "text": [
            "/Users/macbook/Library/Python/3.9/lib/python/site-packages/keras/src/layers/core/dense.py:87: UserWarning: Do not pass an `input_shape`/`input_dim` argument to a layer. When using Sequential models, prefer using an `Input(shape)` object as the first layer in the model instead.\n",
            "  super().__init__(activity_regularizer=activity_regularizer, **kwargs)\n"
          ]
        },
        {
          "name": "stdout",
          "output_type": "stream",
          "text": [
            "\u001b[1m84/84\u001b[0m \u001b[32m━━━━━━━━━━━━━━━━━━━━\u001b[0m\u001b[37m\u001b[0m \u001b[1m0s\u001b[0m 422us/step\n"
          ]
        },
        {
          "name": "stderr",
          "output_type": "stream",
          "text": [
            "/Users/macbook/Library/Python/3.9/lib/python/site-packages/keras/src/layers/core/dense.py:87: UserWarning: Do not pass an `input_shape`/`input_dim` argument to a layer. When using Sequential models, prefer using an `Input(shape)` object as the first layer in the model instead.\n",
            "  super().__init__(activity_regularizer=activity_regularizer, **kwargs)\n"
          ]
        },
        {
          "name": "stdout",
          "output_type": "stream",
          "text": [
            "Best: 0.72837556970795 using {'batch_size': 32, 'epochs': 50, 'optimizer': 'rmsprop', 'units': 128}\n"
          ]
        }
      ],
      "source": [
        "# Melakukan pencarian grid\n",
        "grid = GridSearchCV(estimator=model, param_grid=param_grid, cv=3)\n",
        "grid_result = grid.fit(X_train, y_train)\n",
        "\n",
        "# Menampilkan hasil pencarian\n",
        "print(f\"Best: {grid_result.best_score_} using {grid_result.best_params_}\")"
      ]
    },
    {
      "cell_type": "markdown",
      "id": "16db1aad",
      "metadata": {},
      "source": [
        "**Evaluation Model MLP**"
      ]
    },
    {
      "cell_type": "code",
      "execution_count": 32,
      "id": "f887f3ba",
      "metadata": {},
      "outputs": [
        {
          "name": "stdout",
          "output_type": "stream",
          "text": [
            "\u001b[1m63/63\u001b[0m \u001b[32m━━━━━━━━━━━━━━━━━━━━\u001b[0m\u001b[37m\u001b[0m \u001b[1m0s\u001b[0m 489us/step\n",
            "Accuracy: 0.748\n",
            "Confusion Matrix:\n",
            " [[818 193]\n",
            " [311 678]]\n",
            "Classification Report:\n",
            "               precision    recall  f1-score   support\n",
            "\n",
            "           0       0.72      0.81      0.76      1011\n",
            "           1       0.78      0.69      0.73       989\n",
            "\n",
            "    accuracy                           0.75      2000\n",
            "   macro avg       0.75      0.75      0.75      2000\n",
            "weighted avg       0.75      0.75      0.75      2000\n",
            "\n"
          ]
        }
      ],
      "source": [
        "# Mendapatkan model terbaik yang ditemukan oleh GridSearchCV\n",
        "best_model = grid_result.best_estimator_\n",
        "\n",
        "# Melakukan prediksi pada data uji\n",
        "y_pred = best_model.predict(X_test)\n",
        "\n",
        "# Menilai performa model menggunakan metrik evaluasi\n",
        "print(\"Accuracy:\", accuracy_score(y_test, y_pred))\n",
        "print(\"Confusion Matrix:\\n\", confusion_matrix(y_test, y_pred))\n",
        "print(\"Classification Report:\\n\", classification_report(y_test, y_pred))"
      ]
    },
    {
      "cell_type": "markdown",
      "id": "431b2035",
      "metadata": {},
      "source": [
        "### Model TabNet"
      ]
    },
    {
      "cell_type": "code",
      "execution_count": 33,
      "id": "00774908",
      "metadata": {},
      "outputs": [
        {
          "name": "stderr",
          "output_type": "stream",
          "text": [
            "/Users/macbook/Library/Python/3.9/lib/python/site-packages/pytorch_tabnet/abstract_model.py:82: UserWarning: Device used : cpu\n",
            "  warnings.warn(f\"Device used : {self.device}\")\n"
          ]
        },
        {
          "name": "stdout",
          "output_type": "stream",
          "text": [
            "epoch 0  | loss: 0.72574 | val_accuracy: 0.5175  |  0:00:00s\n",
            "epoch 1  | loss: 0.6241  | val_accuracy: 0.636   |  0:00:00s\n",
            "epoch 2  | loss: 0.59974 | val_accuracy: 0.6505  |  0:00:00s\n",
            "epoch 3  | loss: 0.59432 | val_accuracy: 0.626   |  0:00:00s\n",
            "epoch 4  | loss: 0.58405 | val_accuracy: 0.6715  |  0:00:00s\n",
            "epoch 5  | loss: 0.57765 | val_accuracy: 0.703   |  0:00:01s\n",
            "epoch 6  | loss: 0.57249 | val_accuracy: 0.707   |  0:00:01s\n",
            "epoch 7  | loss: 0.57492 | val_accuracy: 0.662   |  0:00:01s\n",
            "epoch 8  | loss: 0.5674  | val_accuracy: 0.7005  |  0:00:01s\n",
            "epoch 9  | loss: 0.56213 | val_accuracy: 0.6985  |  0:00:01s\n",
            "epoch 10 | loss: 0.56883 | val_accuracy: 0.7     |  0:00:02s\n",
            "epoch 11 | loss: 0.56782 | val_accuracy: 0.7005  |  0:00:02s\n",
            "epoch 12 | loss: 0.56524 | val_accuracy: 0.708   |  0:00:02s\n",
            "epoch 13 | loss: 0.56151 | val_accuracy: 0.668   |  0:00:02s\n",
            "epoch 14 | loss: 0.55928 | val_accuracy: 0.712   |  0:00:02s\n",
            "epoch 15 | loss: 0.56075 | val_accuracy: 0.7055  |  0:00:02s\n",
            "epoch 16 | loss: 0.55516 | val_accuracy: 0.685   |  0:00:03s\n",
            "epoch 17 | loss: 0.55779 | val_accuracy: 0.711   |  0:00:03s\n",
            "epoch 18 | loss: 0.55726 | val_accuracy: 0.714   |  0:00:03s\n",
            "epoch 19 | loss: 0.55733 | val_accuracy: 0.6885  |  0:00:03s\n",
            "epoch 20 | loss: 0.55473 | val_accuracy: 0.705   |  0:00:03s\n",
            "epoch 21 | loss: 0.56132 | val_accuracy: 0.6975  |  0:00:03s\n",
            "epoch 22 | loss: 0.55762 | val_accuracy: 0.6985  |  0:00:04s\n",
            "epoch 23 | loss: 0.55821 | val_accuracy: 0.719   |  0:00:04s\n",
            "epoch 24 | loss: 0.55517 | val_accuracy: 0.707   |  0:00:04s\n",
            "epoch 25 | loss: 0.55375 | val_accuracy: 0.698   |  0:00:04s\n",
            "epoch 26 | loss: 0.55386 | val_accuracy: 0.6945  |  0:00:04s\n",
            "epoch 27 | loss: 0.55085 | val_accuracy: 0.697   |  0:00:04s\n",
            "epoch 28 | loss: 0.55289 | val_accuracy: 0.6915  |  0:00:05s\n",
            "epoch 29 | loss: 0.55396 | val_accuracy: 0.7095  |  0:00:05s\n",
            "epoch 30 | loss: 0.55376 | val_accuracy: 0.691   |  0:00:05s\n",
            "epoch 31 | loss: 0.55451 | val_accuracy: 0.7225  |  0:00:05s\n",
            "epoch 32 | loss: 0.55483 | val_accuracy: 0.698   |  0:00:05s\n",
            "epoch 33 | loss: 0.55031 | val_accuracy: 0.72    |  0:00:05s\n",
            "epoch 34 | loss: 0.55387 | val_accuracy: 0.693   |  0:00:06s\n",
            "epoch 35 | loss: 0.55136 | val_accuracy: 0.6965  |  0:00:06s\n",
            "epoch 36 | loss: 0.54864 | val_accuracy: 0.683   |  0:00:06s\n",
            "epoch 37 | loss: 0.55148 | val_accuracy: 0.693   |  0:00:06s\n",
            "epoch 38 | loss: 0.54786 | val_accuracy: 0.7     |  0:00:06s\n",
            "epoch 39 | loss: 0.54726 | val_accuracy: 0.7125  |  0:00:07s\n",
            "epoch 40 | loss: 0.54734 | val_accuracy: 0.7155  |  0:00:07s\n",
            "epoch 41 | loss: 0.54807 | val_accuracy: 0.7     |  0:00:07s\n",
            "\n",
            "Early stopping occurred at epoch 41 with best_epoch = 31 and best_val_accuracy = 0.7225\n"
          ]
        },
        {
          "name": "stderr",
          "output_type": "stream",
          "text": [
            "/Users/macbook/Library/Python/3.9/lib/python/site-packages/pytorch_tabnet/callbacks.py:172: UserWarning: Best weights from best epoch are automatically used!\n",
            "  warnings.warn(wrn_msg)\n"
          ]
        }
      ],
      "source": [
        "clf = TabNetClassifier(\n",
        "    optimizer_fn=torch.optim.Adam,\n",
        "    optimizer_params=dict(lr=2e-2),\n",
        "    scheduler_params={\"step_size\":10, \"gamma\":0.9},\n",
        "    scheduler_fn=torch.optim.lr_scheduler.StepLR,\n",
        "    verbose=1\n",
        ")\n",
        "\n",
        "clf.fit(\n",
        "    X_train=X_train, y_train=y_train,\n",
        "    eval_set=[(X_test, y_test)],\n",
        "    eval_name=['val'],\n",
        "    eval_metric=['accuracy'],\n",
        "    max_epochs=100,\n",
        "    patience=10,\n",
        "    batch_size=1024, virtual_batch_size=128\n",
        ")"
      ]
    },
    {
      "cell_type": "markdown",
      "id": "uJizZBC5yUn0",
      "metadata": {
        "id": "uJizZBC5yUn0"
      },
      "source": [
        "**Evaluation Model TabNet**"
      ]
    },
    {
      "cell_type": "code",
      "execution_count": 34,
      "id": "9dcfd97d",
      "metadata": {},
      "outputs": [
        {
          "name": "stdout",
          "output_type": "stream",
          "text": [
            "Accuracy: 0.7225\n",
            "Confusion Matrix:\n",
            " [[796 215]\n",
            " [340 649]]\n",
            "Classification Report:\n",
            "               precision    recall  f1-score   support\n",
            "\n",
            "           0       0.70      0.79      0.74      1011\n",
            "           1       0.75      0.66      0.70       989\n",
            "\n",
            "    accuracy                           0.72      2000\n",
            "   macro avg       0.73      0.72      0.72      2000\n",
            "weighted avg       0.73      0.72      0.72      2000\n",
            "\n"
          ]
        }
      ],
      "source": [
        "y_pred = clf.predict(X_test)\n",
        "\n",
        "print(\"Accuracy:\", accuracy_score(y_test, y_pred))\n",
        "print(\"Confusion Matrix:\\n\", confusion_matrix(y_test, y_pred))\n",
        "print(\"Classification Report:\\n\", classification_report(y_test, y_pred))"
      ]
    },
    {
      "cell_type": "markdown",
      "id": "c34f0398",
      "metadata": {},
      "source": [
        "## **Kesimpulan** <br>"
      ]
    },
    {
      "cell_type": "markdown",
      "id": "28465ddc",
      "metadata": {},
      "source": [
        "**Model MLP**\n",
        "- Akurasi sebesar 0.7485 (≈ 74.85%). Akurasi 75% menunjukkan bahwa model bisa mengklasifikasikan 3 dari 4 data dengan benar.\n",
        "- Karena nilai precision, recall, dan F1-score untuk kedua kelas hampir identik (semua 0.75), artinya model ini cukup seimbang dalam mengenali kelas 0 dan kelas 1.\n",
        "- Berdasarkan Confusion Matrix didapatkan kelas 0 (Negatif) sebesar 818 benar, 193 salah dan kelas 1 (Positif) sebesar 678 benar, 311 salah.\n",
        "\n",
        "**Model TabNet**\n",
        "- Akurasi sebesar 0.7225 (≈ 72.25%). \n",
        "- Berdasarkan Confusion Matrix didapatkan kelas 0 (Negatif) sebesar 796 benar, 215 salah dan kelas 1 (Positif) sebesar 649 benar, 340 salah\n",
        "- Recall kelas 1 hanya 0.66, artinya banyak kasus positif yang tidak terdeteksi (False Negative tinggi: 340).\n",
        "- Precision kelas 1 cukup tinggi (0.75), artinya kalau model bilang “positif”, cukup bisa dipercaya. \n",
        "- F1-score untuk kelas 1 adalah 0.70 (dibanding 0.75 di MLP), menandakan trade-off precision vs recall-nya tidak sebaik MLP.\n",
        "\n",
        "\n",
        "**Kesimpulan:** <br>\n",
        "Berdasarkan hasil evaluasi kedua model, **MLP dipilih sebagai model terbaik** karena memiliki performa yang lebih baik secara keseluruhan dibandingkan TabNet. MLP menunjukkan akurasi yang lebih tinggi (74.95% vs 72.25%), serta metrik evaluasi seperti precision, recall, dan F1-score yang lebih seimbang antar kelas. Sementara TabNet cenderung memiliki recall yang rendah pada kelas positif, yang dapat berisiko tinggi apabila klasifikasi positif bersifat krusial. Oleh karena itu, model MLP lebih layak digunakan untuk deployment dalam proyek ini."
      ]
    },
    {
      "cell_type": "markdown",
      "id": "iDFTxFFYyWpF",
      "metadata": {
        "id": "iDFTxFFYyWpF"
      },
      "source": [
        "## **Save Model** <br>"
      ]
    },
    {
      "cell_type": "code",
      "execution_count": 35,
      "id": "997e4f5f",
      "metadata": {},
      "outputs": [
        {
          "name": "stderr",
          "output_type": "stream",
          "text": [
            "WARNING:absl:You are saving your model as an HDF5 file via `model.save()` or `keras.saving.save_model(model)`. This file format is considered legacy. We recommend using instead the native Keras format, e.g. `model.save('my_model.keras')` or `keras.saving.save_model(model, 'my_model.keras')`. \n"
          ]
        }
      ],
      "source": [
        "# Simpan model terbaik ke dalam folder \n",
        "best_model.model.save(\"IllDetect_Capstone_Project_ML/my_best_model.h5\")"
      ]
    },
    {
      "cell_type": "code",
      "execution_count": 36,
      "id": "073f11a3",
      "metadata": {},
      "outputs": [
        {
          "name": "stdout",
          "output_type": "stream",
          "text": [
            "\u001b[32m🌲 Try \u001b[0m\u001b[34mhttps://ydf.readthedocs.io\u001b[0m\u001b[32m, the successor of TensorFlow Decision Forests with more features and faster training!\u001b[0m\n",
            "Traceback (most recent call last):\n",
            "  File \"/Users/macbook/Library/Python/3.9/bin/tensorflowjs_converter\", line 8, in <module>\n",
            "    sys.exit(pip_main())\n",
            "  File \"/Users/macbook/Library/Python/3.9/lib/python/site-packages/tensorflowjs/converters/converter.py\", line 959, in pip_main\n",
            "    main([' '.join(sys.argv[1:])])\n",
            "  File \"/Users/macbook/Library/Python/3.9/lib/python/site-packages/tensorflowjs/converters/converter.py\", line 963, in main\n",
            "    convert(argv[0].split(' '))\n",
            "  File \"/Users/macbook/Library/Python/3.9/lib/python/site-packages/tensorflowjs/converters/converter.py\", line 949, in convert\n",
            "    _dispatch_converter(input_format, output_format, args, quantization_dtype_map,\n",
            "  File \"/Users/macbook/Library/Python/3.9/lib/python/site-packages/tensorflowjs/converters/converter.py\", line 619, in _dispatch_converter\n",
            "    dispatch_keras_h5_to_tfjs_layers_model_conversion(\n",
            "  File \"/Users/macbook/Library/Python/3.9/lib/python/site-packages/tensorflowjs/converters/converter.py\", line 78, in dispatch_keras_h5_to_tfjs_layers_model_conversion\n",
            "    raise ValueError('Nonexistent path to HDF5 file: %s' % h5_path)\n",
            "ValueError: Nonexistent path to HDF5 file: IllDetect_Capstone_Project_ML/model_best.h5\n"
          ]
        }
      ],
      "source": [
        "!tensorflowjs_converter --input_format=keras IllDetect_Capstone_Project_ML/model_best.h5 IllDetect_Capstone_Project_ML/tfjs_model"
      ]
    },
    {
      "cell_type": "code",
      "execution_count": 37,
      "id": "c280973a",
      "metadata": {},
      "outputs": [
        {
          "name": "stdout",
          "output_type": "stream",
          "text": [
            "✅ File 'feature_info.pkl' berhasil dibuat.\n"
          ]
        }
      ],
      "source": [
        "# Simpan urutan fitur baru yang akan disimpan\n",
        "with open('feature_info.pkl', 'wb') as f:\n",
        "    pickle.dump(feature_names, f)\n",
        "print(\"✅ File 'feature_info.pkl' berhasil dibuat.\")"
      ]
    },
    {
      "cell_type": "code",
      "execution_count": 38,
      "id": "a11c9141",
      "metadata": {},
      "outputs": [
        {
          "name": "stdout",
          "output_type": "stream",
          "text": [
            "✅ File 'scaler.pkl' berhasil dibuat.\n"
          ]
        }
      ],
      "source": [
        "# Simpan Model Standarisasi\n",
        "with open('scaler.pkl', 'wb') as f:\n",
        "    pickle.dump(scaler, f)\n",
        "print(\"✅ File 'scaler.pkl' berhasil dibuat.\")"
      ]
    },
    {
      "cell_type": "markdown",
      "id": "PayVb9dJye6z",
      "metadata": {
        "id": "PayVb9dJye6z"
      },
      "source": [
        "## **Inferensi** <br>"
      ]
    },
    {
      "cell_type": "code",
      "execution_count": 39,
      "id": "d5dda9f7",
      "metadata": {},
      "outputs": [
        {
          "name": "stdout",
          "output_type": "stream",
          "text": [
            "\u001b[1m1/1\u001b[0m \u001b[32m━━━━━━━━━━━━━━━━━━━━\u001b[0m\u001b[37m\u001b[0m \u001b[1m0s\u001b[0m 18ms/step\n",
            "\u001b[1m1/1\u001b[0m \u001b[32m━━━━━━━━━━━━━━━━━━━━\u001b[0m\u001b[37m\u001b[0m \u001b[1m0s\u001b[0m 15ms/step\n",
            "Prediksi risiko (0 = tidak, 1 = risiko): 1\n",
            "Probabilitas risiko: 0.8432963\n"
          ]
        },
        {
          "name": "stderr",
          "output_type": "stream",
          "text": [
            "/Users/macbook/Library/Python/3.9/lib/python/site-packages/sklearn/utils/validation.py:2739: UserWarning: X does not have valid feature names, but StandardScaler was fitted with feature names\n",
            "  warnings.warn(\n",
            "/var/folders/m2/f0dmk8qn71593x9d7n6nlxl00000gn/T/ipykernel_2687/723445391.py:35: DeprecationWarning: Conversion of an array with ndim > 0 to a scalar is deprecated, and will error in future. Ensure you extract a single element from your array before performing this operation. (Deprecated NumPy 1.25.)\n",
            "  print(\"Prediksi risiko (0 = tidak, 1 = risiko):\", int(y_pred[0]))\n"
          ]
        }
      ],
      "source": [
        "# Data baru yang akan diprediksi\n",
        "new_data_dict = {\n",
        "    'age': 20440,\n",
        "    'gender': 1,\n",
        "    'height': 156,\n",
        "    'weight': 85,\n",
        "    'ap_hi': 140,\n",
        "    'ap_lo': 90,\n",
        "    'cholesterol': 3,\n",
        "    'gluc': 1,\n",
        "    'smoke': 0,\n",
        "    'alco': 0,\n",
        "    'active': 1\n",
        "}\n",
        "\n",
        "# Daftar fitur numerik dan kategorikal, pastikan urutannya sama seperti saat training\n",
        "numeric_features = ['age', 'height', 'weight', 'ap_hi', 'ap_lo']\n",
        "categorical_features = ['gender', 'cholesterol', 'gluc', 'smoke', 'alco', 'active']\n",
        "\n",
        "# Siapkan input data sesuai urutan\n",
        "numeric_input = np.array([[new_data_dict[feat] for feat in numeric_features]])  # (1, 5)\n",
        "categorical_input = np.array([[new_data_dict[feat] for feat in categorical_features]])  # (1, 6)\n",
        "\n",
        "# Scaling fitur numerik\n",
        "numeric_scaled = scaler.transform(numeric_input)  # (1, 5)\n",
        "\n",
        "# Gabungkan numerik dan kategorikal jadi satu array\n",
        "X_new = np.concatenate([numeric_scaled, categorical_input], axis=1).astype(np.float32)  # (1, 11)\n",
        "\n",
        "# Prediksi (model output bentuknya sudah (n,) karena flatten() di predict())\n",
        "y_pred = best_model.predict(X_new)  # hasil akhir berupa array isi 0 atau 1\n",
        "y_proba = best_model.model.predict(X_new)  # probabilitas asli dari sigmoid\n",
        "\n",
        "# Output\n",
        "print(\"Prediksi risiko (0 = tidak, 1 = risiko):\", int(y_pred[0]))\n",
        "print(\"Probabilitas risiko:\", y_proba[0][0])"
      ]
    }
  ],
  "metadata": {
    "colab": {
      "provenance": []
    },
    "kernelspec": {
      "display_name": "Python 3",
      "language": "python",
      "name": "python3"
    },
    "language_info": {
      "codemirror_mode": {
        "name": "ipython",
        "version": 3
      },
      "file_extension": ".py",
      "mimetype": "text/x-python",
      "name": "python",
      "nbconvert_exporter": "python",
      "pygments_lexer": "ipython3",
      "version": "3.9.6"
    }
  },
  "nbformat": 4,
  "nbformat_minor": 5
}
